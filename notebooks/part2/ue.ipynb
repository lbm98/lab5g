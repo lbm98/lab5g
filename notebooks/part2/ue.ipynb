{
 "cells": [
  {
   "cell_type": "markdown",
   "id": "d76fceeb-4642-4eef-93a7-a46c3e7da0e4",
   "metadata": {},
   "source": [
    "# UE configuration"
   ]
  },
  {
   "cell_type": "markdown",
   "id": "88959c98-5a24-42a6-b113-92e823a9dbb7",
   "metadata": {},
   "source": [
    "**Question:** You will see references to opc. How do you compute it?\n",
    "\n",
    "**Answser:**\n",
    "The Operator Variant Code (OPC) is a value used in the authentication process.  \n",
    "It is computed using the IMSI (International Mobile Subscriber Identity)  \n",
    "and a secret key known only to the operator's authentication center.\n",
    "It referecend in the \"Specification of the MILENAGE algorithm set\".\n",
    "However in the \"Security architecture and procedures for 5G System\", the OPC concept is not referenced anymore (why?).\n",
    "\n",
    "**Sources:**\n",
    "- 3GPP 35.206\n",
    "- 3GPP 33.501"
   ]
  },
  {
   "cell_type": "markdown",
   "id": "d2a74089-f552-4cc3-be3f-5c0dbc4b21d8",
   "metadata": {},
   "source": [
    "**Question:** How should you pick key? \n",
    "\n",
    "**Answser:**\n",
    "`key` is the authentication key used for security authentication between the UE and the network.  \n",
    "It's important to follow secure practives and choose the key with a secure random number generator  \n",
    "to avoid predictable values."
   ]
  },
  {
   "cell_type": "markdown",
   "id": "c46321e2-b73e-47e2-8846-3c33f0e255ae",
   "metadata": {},
   "source": [
    "**Question:** How do you construct the IMSI?\n",
    "\n",
    "**Answser:**\n",
    "The IMSI is the unique identifier assigned to a mobile subscriber.  \n",
    "It consists of three components:\n",
    "- Mobile Country Code (MCC)\n",
    "    - three-digit code that represents the country in which the subscriber is registered\n",
    "- Mobile Network Code (MNC)\n",
    "    - two- or three-digit code that identifies the mobile network within the country\n",
    "- Mobile Subscriber Identification Number (MSIN)\n",
    "    - variable-length number that uniquely identifies the subscriber within the mobile network."
   ]
  },
  {
   "cell_type": "markdown",
   "id": "1cfd9576-5a4e-4187-b1b0-ce5f1e47bd40",
   "metadata": {},
   "source": [
    "**Question:** What does dnn mean? \n",
    "\n",
    "**Answser:**\n",
    "The Data Network Name, which specifies the name of the network to which the UE wants to connect."
   ]
  },
  {
   "cell_type": "markdown",
   "id": "c0b3429f-030b-49ce-a3c0-5724df9dbffd",
   "metadata": {},
   "source": [
    "**Question:** What does nssai_sst mean\n",
    "\n",
    "**Answser:**\n",
    "The `NSSAI` is the Network Slice Selection Assistance Information and is used in the context of Network Slicing.\n",
    "The `SST` Slice/Service Type, indicates the Slice Service Type.\n",
    "In the oai ue.conf file, the SST has a value of 1, meaning a slice suitable for handling eMBB traffic.\n",
    "\n",
    "**Sources:**\n",
    "- https://www.sharetechnote.com/html/5G/5G_NetworkSlicing.html"
   ]
  },
  {
   "cell_type": "markdown",
   "id": "6e892842-f3b6-4a72-813d-a20d56d1bd2a",
   "metadata": {},
   "source": [
    "**Question:** Do you have to enter user SIM data anywhere else? Where?\n",
    "\n",
    "**Answser:**\n",
    "The `OAI NR-UE` section mentions to \"Edit openair3/UICC/usim_interface.c\", so maybe..\n",
    "\n",
    "**Sources:**\n",
    "- https://gitlab.eurecom.fr/oai/openairinterface5g/-/blob/develop/doc/NR_SA_Tutorial_OAI_nrUE.md"
   ]
  },
  {
   "cell_type": "markdown",
   "id": "613622cf-0e41-4199-99c4-1a5cb4d348a7",
   "metadata": {},
   "source": [
    "User Subscription Profile also needs to be configured in the core network as described in\n",
    "https://gitlab.eurecom.fr/oai/cn5g/oai-cn5g-fed/-/blob/master/docs/DEPLOY_SA5G_BASIC_DEPLOYMENT.md#52-user-subscription-profile\n",
    "\n",
    "This can be either\n",
    "- pre-configured in a database file, or\n",
    "- added when the core is already running.\n",
    "\n",
    "We need to make sure that the IMSI, opc and key are according to the settings of the user device."
   ]
  },
  {
   "cell_type": "markdown",
   "id": "87019441-2279-4c16-bfad-f249f71b90d8",
   "metadata": {},
   "source": [
    "## Resulting ue.conf File\n",
    "\n",
    "Note that I did not change any values, this is an exact copy of the default configuration.\n",
    "\n",
    "```\n",
    "uicc0 = {\n",
    "imsi = \"2089900007487\";\n",
    "key = \"fec86ba6eb707ed08905757b1bb44b8f\";\n",
    "opc= \"C42449363BBAD02B66D16BC975D77CC1\";\n",
    "dnn= \"oai\";\n",
    "nssai_sst=1;\n",
    "nssai_sd=1;\n",
    "}\n",
    "```"
   ]
  },
  {
   "cell_type": "code",
   "execution_count": null,
   "id": "7adbfbbf-017d-42e8-93e0-003606d8ed03",
   "metadata": {},
   "outputs": [],
   "source": []
  }
 ],
 "metadata": {
  "kernelspec": {
   "display_name": "Python 3 (ipykernel)",
   "language": "python",
   "name": "python3"
  },
  "language_info": {
   "codemirror_mode": {
    "name": "ipython",
    "version": 3
   },
   "file_extension": ".py",
   "mimetype": "text/x-python",
   "name": "python",
   "nbconvert_exporter": "python",
   "pygments_lexer": "ipython3",
   "version": "3.10.6"
  }
 },
 "nbformat": 4,
 "nbformat_minor": 5
}
