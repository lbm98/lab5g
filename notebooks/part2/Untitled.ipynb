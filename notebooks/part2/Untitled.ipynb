{
 "cells": [
  {
   "cell_type": "markdown",
   "id": "79d549db-9d87-4ce9-8fd1-626a5057f99d",
   "metadata": {},
   "source": [
    "**Question:** What is ASN1?\n",
    "\n",
    "**Answser:**\n",
    "ASN stands for Abstract Syntax Notation.  \n",
    "ASN1 is a standard IDL for defining data structures that can be serialized and deserialized in a cross-platform way.  \n",
    "This makes it a suitable configuration file format for oai5g.  \n",
    "\n",
    "**Sources:**\n",
    "- https://en.wikipedia.org/wiki/ASN.1"
   ]
  },
  {
   "cell_type": "markdown",
   "id": "c9924b90-d19a-4593-915a-76ec60d7b021",
   "metadata": {},
   "source": [
    "**Question:** What are gNB_ID, nr_cellid and physCellId? Why are they important and how are they used?\n",
    "\n",
    "**Answser:**\n",
    "These are unique identifiers that are used in various places in the code base to refer to specific entities.\n",
    "\n",
    "- `gNB_ID`:\n",
    "    - In the RRC mac protocol\n",
    "    - In the gBN application layer for NGAP messages\n",
    "    - ...\n",
    "\n",
    "- `nr_cellid`:\n",
    "    - Used in L2 messages (f1ap)\n",
    "    - In the RRC mac protocol\n",
    "    - ...\n",
    "      \n",
    "\n",
    "`physCellId`:\n",
    "    - In the RRC mac protocol\n",
    "    - ...\n",
    "\n",
    "**Sources:**\n",
    "- oai5g source code"
   ]
  },
  {
   "cell_type": "markdown",
   "id": "8883a1cf-701e-41bf-a1d6-90b1426415a1",
   "metadata": {},
   "source": [
    "**Question:** How should you pick tracking_area_code? Is this important for our case?\n",
    "\n",
    "**Answser:**\n",
    "The Tracking Area is a logical concept of an area where a user can move around without perforing a tracking area update.  \n",
    "I expect that, given our small coverage region, the tracking are will be the same for the entire region.  \n",
    "Therefore, the choisc of `tracking_area_code` is arbitrary and we can leave it set to 1.  \n",
    "\n",
    "**Sources:**\n",
    "- https://www.sharetechnote.com/html/Handbook_LTE_Tracking_Area.html"
   ]
  },
  {
   "cell_type": "markdown",
   "id": "01605232-d2de-4635-bda1-edfc864c8747",
   "metadata": {},
   "source": [
    "**Question:** What are mcc and mnc? What should this be if you were Proximus, and what should they be for a test network?\n",
    "\n",
    "**Answser:**\n",
    "The `mcc` is the Mobile Country Code and it plays an important role in country identification and roaming functionality.\n",
    "\n",
    "The `mnc` is the Mobile Network Code and and it is used in combination with the MCC to uniquely identify a mobile network operator (like Proximus).\n",
    "\n",
    "Proximus specifically has an MCC/MNC tuple of 206/01,  \n",
    "however for a test network it is adviced to use an MCC where the first digit is 0.  \n",
    "A good tuple for a test network could be 001/001.\n",
    "\n",
    "**Sources:**\n",
    "- https://en.wikipedia.org/wiki/Mobile_country_code\n",
    "- https://en.wikipedia.org/wiki/Mobile_country_code#Test_networks"
   ]
  },
  {
   "cell_type": "markdown",
   "id": "1e64612b-a9e6-4064-8dbf-b90b9e9b1ca2",
   "metadata": {},
   "source": [
    "**Question:** What value do you pick for dl_carrierBandwidth and why?\n",
    "\n",
    "**Answser:**\n",
    "`dl_carrierBandwidth` refers to the downlink carrier bandwidth in terms of the number of resource blocks (PRBs) allocated to the downlink transmission.\n",
    "\n",
    "Given the 20 MHz of downlink bandwidth (see notebooks),  \n",
    "the question is: how many resource blocks will fit in?  \n",
    "A resource block is defined as 12 consecutive subcarriers (in the frequency domain).  \n",
    "The bandwidth occupied will depend on the sub-carrier spacing (SCS).  \n",
    "Given a SCS of 30 kHz (the default in the config file),  \n",
    "the following equation must hold:\n",
    "$$ 20 \\mathrm{MHz} = x \\mathrm{RB} \\times 12  \\mathrm{SC/RB} \\times 30 \\mathrm{kHz/SC} $$\n",
    "Solving for x gives\n",
    "$$ x = \\frac{20 \\times 10^3}{12 \\times 30} \\approx 56 RB $$\n",
    "\n",
    "**Sources:**\n",
    "- ChatGPT May 12 Version"
   ]
  },
  {
   "cell_type": "markdown",
   "id": "97d26deb-3ba9-4c52-bed2-e495ec75773f",
   "metadata": {},
   "source": [
    "**Question:** What would pdsch_AntennaPorts equal to 4 mean? How would this be used\n",
    "\n",
    "**Answser:**\n",
    "The `pdsch` is the Physical Downlink Shared Channel.  \n",
    "It is a physical channel that delivers user data from the gNB to the UE.  \n",
    "An important step in the data flow in this channel is the Antenna Port Mapping.  \n",
    "More antennas improve the spatial diversity and the potential for beamforming.  \n",
    "\n",
    "**Sources:**\n",
    "- https://www.sharetechnote.com/html/5G/5G_PDSCH.html#Antenna_Port_Mapping"
   ]
  },
  {
   "cell_type": "markdown",
   "id": "ceb62535-e6ef-4b4f-8a21-2d030ae16388",
   "metadata": {},
   "source": [
    "**Question:** Lookup the formula for EARFCN and calculate the correct values according to your parameter choices \n",
    "\n",
    "**Answser:**\n",
    "`EARFCN` stands for E-UTRA Absolute Radio Frequency Channel Number.  \n",
    "We are working with band 2 (see previous notebooks),  \n",
    "which has a downlink frequency of 1960 MHz.  \n",
    "For FR1, the formula becomes:\n",
    "\n",
    "$$ N_{REF} = \\frac{F_{REF}}{5 \\mathrm{kHz}} $$\n",
    "\n",
    "where $N_{REF}$ is the NR ARFCN and $F_{REF}$ is the NR frequency.  \n",
    "So, plugging in 1930 MHz we get an ARFCN of 392000.  \n",
    "\n",
    "\n",
    "**Sources:**\n",
    "- https://www.sqimway.com/nr_band.php\n",
    "- https://5g-tools.com/5g-nr-arfcn-calculator/"
   ]
  },
  {
   "cell_type": "code",
   "execution_count": null,
   "id": "9dbf53f8-aba4-49df-b051-02d5f02b73f4",
   "metadata": {},
   "outputs": [],
   "source": []
  }
 ],
 "metadata": {
  "kernelspec": {
   "display_name": "Python 3 (ipykernel)",
   "language": "python",
   "name": "python3"
  },
  "language_info": {
   "codemirror_mode": {
    "name": "ipython",
    "version": 3
   },
   "file_extension": ".py",
   "mimetype": "text/x-python",
   "name": "python",
   "nbconvert_exporter": "python",
   "pygments_lexer": "ipython3",
   "version": "3.10.6"
  }
 },
 "nbformat": 4,
 "nbformat_minor": 5
}
