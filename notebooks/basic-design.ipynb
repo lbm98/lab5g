{
 "cells": [
  {
   "cell_type": "markdown",
   "id": "c7b47f5e-1750-4af9-9b4e-4fb995092fec",
   "metadata": {},
   "source": [
    "# Basic Design"
   ]
  },
  {
   "cell_type": "markdown",
   "id": "c25932e9-9fb8-4701-81e7-a3b77aac24eb",
   "metadata": {},
   "source": [
    "#### Take a look at the map and derive distances (min, max) and angles (horizontal and vertical)."
   ]
  },
  {
   "cell_type": "code",
   "execution_count": null,
   "id": "301e33f2-a8b8-4b6c-a9a3-46341d867c88",
   "metadata": {},
   "outputs": [],
   "source": []
  }
 ],
 "metadata": {
  "kernelspec": {
   "display_name": "Python 3 (ipykernel)",
   "language": "python",
   "name": "python3"
  },
  "language_info": {
   "codemirror_mode": {
    "name": "ipython",
    "version": 3
   },
   "file_extension": ".py",
   "mimetype": "text/x-python",
   "name": "python",
   "nbconvert_exporter": "python",
   "pygments_lexer": "ipython3",
   "version": "3.10.4"
  }
 },
 "nbformat": 4,
 "nbformat_minor": 5
}
