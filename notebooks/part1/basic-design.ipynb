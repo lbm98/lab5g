{
 "cells": [
  {
   "cell_type": "markdown",
   "id": "f8d21a36-ee9a-471c-84a3-ca8744a1e8b4",
   "metadata": {},
   "source": [
    "# Basic Design"
   ]
  },
  {
   "cell_type": "markdown",
   "id": "367aea6b-beb4-41c5-ae4f-7f62fc6adcdb",
   "metadata": {},
   "source": [
    "**Question:**\n",
    "Take a look at the map and derive distances (min, max) and angles (horizontal and vertical).\n",
    "\n",
    "**Question:**\n",
    "Make a drawing showing the center lines and edge angles. "
   ]
  },
  {
   "cell_type": "code",
   "execution_count": 1,
   "id": "c0a027bb-dd17-4959-8414-84d9b5d1eaec",
   "metadata": {
    "tags": []
   },
   "outputs": [],
   "source": [
    "import math\n",
    "import folium\n",
    "import numpy as np\n",
    "from geopy.distance import distance"
   ]
  },
  {
   "cell_type": "code",
   "execution_count": 2,
   "id": "af89b891-37d2-455d-a7c4-ffbaf15ae73a",
   "metadata": {
    "tags": []
   },
   "outputs": [],
   "source": [
    "antenna_building_height_m = 20\n",
    "\n",
    "antenna_coordinates = [51.225779846347535, 4.400503131269632]\n",
    "min_site_coordinates = [51.227090, 4.393261]\n",
    "max_site_coordinates = [51.227990333375544, 4.389441701586266]\n",
    "min_site_north_coordinates = [51.22979961685109, 4.394331930457293]\n",
    "min_site_south_coordinates = [51.22466615115592, 4.391886179162105]"
   ]
  },
  {
   "cell_type": "code",
   "execution_count": 3,
   "id": "10304017-e48b-4eb3-b844-5de3904b9257",
   "metadata": {
    "tags": []
   },
   "outputs": [
    {
     "data": {
      "text/html": [
       "<div style=\"width:100%;\"><div style=\"position:relative;width:100%;height:0;padding-bottom:60%;\"><span style=\"color:#565656\">Make this Notebook Trusted to load map: File -> Trust Notebook</span><iframe srcdoc=\"&lt;!DOCTYPE html&gt;\n",
       "&lt;html&gt;\n",
       "&lt;head&gt;\n",
       "    \n",
       "    &lt;meta http-equiv=&quot;content-type&quot; content=&quot;text/html; charset=UTF-8&quot; /&gt;\n",
       "    \n",
       "        &lt;script&gt;\n",
       "            L_NO_TOUCH = false;\n",
       "            L_DISABLE_3D = false;\n",
       "        &lt;/script&gt;\n",
       "    \n",
       "    &lt;style&gt;html, body {width: 100%;height: 100%;margin: 0;padding: 0;}&lt;/style&gt;\n",
       "    &lt;style&gt;#map {position:absolute;top:0;bottom:0;right:0;left:0;}&lt;/style&gt;\n",
       "    &lt;script src=&quot;https://cdn.jsdelivr.net/npm/leaflet@1.9.3/dist/leaflet.js&quot;&gt;&lt;/script&gt;\n",
       "    &lt;script src=&quot;https://code.jquery.com/jquery-1.12.4.min.js&quot;&gt;&lt;/script&gt;\n",
       "    &lt;script src=&quot;https://cdn.jsdelivr.net/npm/bootstrap@5.2.2/dist/js/bootstrap.bundle.min.js&quot;&gt;&lt;/script&gt;\n",
       "    &lt;script src=&quot;https://cdnjs.cloudflare.com/ajax/libs/Leaflet.awesome-markers/2.0.2/leaflet.awesome-markers.js&quot;&gt;&lt;/script&gt;\n",
       "    &lt;link rel=&quot;stylesheet&quot; href=&quot;https://cdn.jsdelivr.net/npm/leaflet@1.9.3/dist/leaflet.css&quot;/&gt;\n",
       "    &lt;link rel=&quot;stylesheet&quot; href=&quot;https://cdn.jsdelivr.net/npm/bootstrap@5.2.2/dist/css/bootstrap.min.css&quot;/&gt;\n",
       "    &lt;link rel=&quot;stylesheet&quot; href=&quot;https://netdna.bootstrapcdn.com/bootstrap/3.0.0/css/bootstrap.min.css&quot;/&gt;\n",
       "    &lt;link rel=&quot;stylesheet&quot; href=&quot;https://cdn.jsdelivr.net/npm/@fortawesome/fontawesome-free@6.2.0/css/all.min.css&quot;/&gt;\n",
       "    &lt;link rel=&quot;stylesheet&quot; href=&quot;https://cdnjs.cloudflare.com/ajax/libs/Leaflet.awesome-markers/2.0.2/leaflet.awesome-markers.css&quot;/&gt;\n",
       "    &lt;link rel=&quot;stylesheet&quot; href=&quot;https://cdn.jsdelivr.net/gh/python-visualization/folium/folium/templates/leaflet.awesome.rotate.min.css&quot;/&gt;\n",
       "    \n",
       "            &lt;meta name=&quot;viewport&quot; content=&quot;width=device-width,\n",
       "                initial-scale=1.0, maximum-scale=1.0, user-scalable=no&quot; /&gt;\n",
       "            &lt;style&gt;\n",
       "                #map_a265ccee30c1006f416755fb4b31ee6f {\n",
       "                    position: relative;\n",
       "                    width: 100.0%;\n",
       "                    height: 100.0%;\n",
       "                    left: 0.0%;\n",
       "                    top: 0.0%;\n",
       "                }\n",
       "                .leaflet-container { font-size: 1rem; }\n",
       "            &lt;/style&gt;\n",
       "        \n",
       "&lt;/head&gt;\n",
       "&lt;body&gt;\n",
       "    \n",
       "    \n",
       "            &lt;div class=&quot;folium-map&quot; id=&quot;map_a265ccee30c1006f416755fb4b31ee6f&quot; &gt;&lt;/div&gt;\n",
       "        \n",
       "&lt;/body&gt;\n",
       "&lt;script&gt;\n",
       "    \n",
       "    \n",
       "            var map_a265ccee30c1006f416755fb4b31ee6f = L.map(\n",
       "                &quot;map_a265ccee30c1006f416755fb4b31ee6f&quot;,\n",
       "                {\n",
       "                    center: [51.22709, 4.393261],\n",
       "                    crs: L.CRS.EPSG3857,\n",
       "                    zoom: 15,\n",
       "                    zoomControl: true,\n",
       "                    preferCanvas: false,\n",
       "                }\n",
       "            );\n",
       "\n",
       "            \n",
       "\n",
       "        \n",
       "    \n",
       "            var tile_layer_b6e9efe3770f2c4b51d42d9433ca8a3a = L.tileLayer(\n",
       "                &quot;https://{s}.tile.openstreetmap.org/{z}/{x}/{y}.png&quot;,\n",
       "                {&quot;attribution&quot;: &quot;Data by \\u0026copy; \\u003ca target=\\&quot;_blank\\&quot; href=\\&quot;http://openstreetmap.org\\&quot;\\u003eOpenStreetMap\\u003c/a\\u003e, under \\u003ca target=\\&quot;_blank\\&quot; href=\\&quot;http://www.openstreetmap.org/copyright\\&quot;\\u003eODbL\\u003c/a\\u003e.&quot;, &quot;detectRetina&quot;: false, &quot;maxNativeZoom&quot;: 18, &quot;maxZoom&quot;: 18, &quot;minZoom&quot;: 0, &quot;noWrap&quot;: false, &quot;opacity&quot;: 1, &quot;subdomains&quot;: &quot;abc&quot;, &quot;tms&quot;: false}\n",
       "            ).addTo(map_a265ccee30c1006f416755fb4b31ee6f);\n",
       "        \n",
       "    \n",
       "            var marker_b816c3ce18da6ff0f2bc098ed125a30f = L.marker(\n",
       "                [51.225779846347535, 4.400503131269632],\n",
       "                {}\n",
       "            ).addTo(map_a265ccee30c1006f416755fb4b31ee6f);\n",
       "        \n",
       "    \n",
       "        var popup_d3861b278547744e92c3885e317a4e2c = L.popup({&quot;maxWidth&quot;: &quot;100%&quot;});\n",
       "\n",
       "        \n",
       "            \n",
       "                var html_624868e4e3e092156f70072a463786ec = $(`&lt;div id=&quot;html_624868e4e3e092156f70072a463786ec&quot; style=&quot;width: 100.0%; height: 100.0%;&quot;&gt;antenna&lt;/div&gt;`)[0];\n",
       "                popup_d3861b278547744e92c3885e317a4e2c.setContent(html_624868e4e3e092156f70072a463786ec);\n",
       "            \n",
       "        \n",
       "\n",
       "        marker_b816c3ce18da6ff0f2bc098ed125a30f.bindPopup(popup_d3861b278547744e92c3885e317a4e2c)\n",
       "        ;\n",
       "\n",
       "        \n",
       "    \n",
       "    \n",
       "            var marker_be70227eccedba7228fde0f7e8cfe2a9 = L.marker(\n",
       "                [51.22709, 4.393261],\n",
       "                {}\n",
       "            ).addTo(map_a265ccee30c1006f416755fb4b31ee6f);\n",
       "        \n",
       "    \n",
       "        var popup_a43a17e7a8f10dce6b3fe589598e4d8f = L.popup({&quot;maxWidth&quot;: &quot;100%&quot;});\n",
       "\n",
       "        \n",
       "            \n",
       "                var html_ee28bb0ceb5fbe9e82d45f4563d79775 = $(`&lt;div id=&quot;html_ee28bb0ceb5fbe9e82d45f4563d79775&quot; style=&quot;width: 100.0%; height: 100.0%;&quot;&gt;min site&lt;/div&gt;`)[0];\n",
       "                popup_a43a17e7a8f10dce6b3fe589598e4d8f.setContent(html_ee28bb0ceb5fbe9e82d45f4563d79775);\n",
       "            \n",
       "        \n",
       "\n",
       "        marker_be70227eccedba7228fde0f7e8cfe2a9.bindPopup(popup_a43a17e7a8f10dce6b3fe589598e4d8f)\n",
       "        ;\n",
       "\n",
       "        \n",
       "    \n",
       "    \n",
       "            var marker_b4be73defc558e2f855283d378ec24c8 = L.marker(\n",
       "                [51.227990333375544, 4.389441701586266],\n",
       "                {}\n",
       "            ).addTo(map_a265ccee30c1006f416755fb4b31ee6f);\n",
       "        \n",
       "    \n",
       "        var popup_726499da0f8914c87f246cbafdc232b3 = L.popup({&quot;maxWidth&quot;: &quot;100%&quot;});\n",
       "\n",
       "        \n",
       "            \n",
       "                var html_f43d1ba0a279798e205f356175f69bba = $(`&lt;div id=&quot;html_f43d1ba0a279798e205f356175f69bba&quot; style=&quot;width: 100.0%; height: 100.0%;&quot;&gt;max site&lt;/div&gt;`)[0];\n",
       "                popup_726499da0f8914c87f246cbafdc232b3.setContent(html_f43d1ba0a279798e205f356175f69bba);\n",
       "            \n",
       "        \n",
       "\n",
       "        marker_b4be73defc558e2f855283d378ec24c8.bindPopup(popup_726499da0f8914c87f246cbafdc232b3)\n",
       "        ;\n",
       "\n",
       "        \n",
       "    \n",
       "    \n",
       "            var marker_2b903b447d9f96a03723e8adc528d59a = L.marker(\n",
       "                [51.22979961685109, 4.394331930457293],\n",
       "                {}\n",
       "            ).addTo(map_a265ccee30c1006f416755fb4b31ee6f);\n",
       "        \n",
       "    \n",
       "        var popup_5229182c355178cea9b820e0feadec14 = L.popup({&quot;maxWidth&quot;: &quot;100%&quot;});\n",
       "\n",
       "        \n",
       "            \n",
       "                var html_4c23df6cf343d686282264c22a52483a = $(`&lt;div id=&quot;html_4c23df6cf343d686282264c22a52483a&quot; style=&quot;width: 100.0%; height: 100.0%;&quot;&gt;min site north&lt;/div&gt;`)[0];\n",
       "                popup_5229182c355178cea9b820e0feadec14.setContent(html_4c23df6cf343d686282264c22a52483a);\n",
       "            \n",
       "        \n",
       "\n",
       "        marker_2b903b447d9f96a03723e8adc528d59a.bindPopup(popup_5229182c355178cea9b820e0feadec14)\n",
       "        ;\n",
       "\n",
       "        \n",
       "    \n",
       "    \n",
       "            var marker_36083bccc37d82d1b8b8046a132c43f0 = L.marker(\n",
       "                [51.22466615115592, 4.391886179162105],\n",
       "                {}\n",
       "            ).addTo(map_a265ccee30c1006f416755fb4b31ee6f);\n",
       "        \n",
       "    \n",
       "        var popup_f57f0717542020677e9c69e23a058d57 = L.popup({&quot;maxWidth&quot;: &quot;100%&quot;});\n",
       "\n",
       "        \n",
       "            \n",
       "                var html_bb8bae5305cf4fac3992537e4891743e = $(`&lt;div id=&quot;html_bb8bae5305cf4fac3992537e4891743e&quot; style=&quot;width: 100.0%; height: 100.0%;&quot;&gt;min site south&lt;/div&gt;`)[0];\n",
       "                popup_f57f0717542020677e9c69e23a058d57.setContent(html_bb8bae5305cf4fac3992537e4891743e);\n",
       "            \n",
       "        \n",
       "\n",
       "        marker_36083bccc37d82d1b8b8046a132c43f0.bindPopup(popup_f57f0717542020677e9c69e23a058d57)\n",
       "        ;\n",
       "\n",
       "        \n",
       "    \n",
       "&lt;/script&gt;\n",
       "&lt;/html&gt;\" style=\"position:absolute;width:100%;height:100%;left:0;top:0;border:none !important;\" allowfullscreen webkitallowfullscreen mozallowfullscreen></iframe></div></div>"
      ],
      "text/plain": [
       "<folium.folium.Map at 0x2036cf62a70>"
      ]
     },
     "execution_count": 3,
     "metadata": {},
     "output_type": "execute_result"
    }
   ],
   "source": [
    "map = folium.Map(location=min_site_coordinates, zoom_start=15)\n",
    "\n",
    "antenna_marker = folium.Marker(location=antenna_coordinates, popup=\"antenna\")\n",
    "min_site_marker = folium.Marker(location=min_site_coordinates, popup=\"min site\")\n",
    "max_site_marker = folium.Marker(location=max_site_coordinates, popup=\"max site\")\n",
    "min_site_north_marker = folium.Marker(location=min_site_north_coordinates, popup=\"min site north\")\n",
    "min_site_south_marker = folium.Marker(location=min_site_south_coordinates, popup=\"min site south\")\n",
    "\n",
    "antenna_marker.add_to(map)\n",
    "min_site_marker.add_to(map)\n",
    "max_site_marker.add_to(map)\n",
    "min_site_north_marker.add_to(map)\n",
    "min_site_south_marker.add_to(map)\n",
    "\n",
    "map"
   ]
  },
  {
   "cell_type": "markdown",
   "id": "d9a9728e-f15d-4356-ab99-939d4b62fe95",
   "metadata": {},
   "source": [
    "## Horizontal Angle "
   ]
  },
  {
   "attachments": {
    "28533dc9-43e1-413e-9241-76a9b92da0e6.png": {
     "image/png": "[encoded data removed]"
    }
   },
   "cell_type": "markdown",
   "id": "72cfd8f7-a845-4c3e-90bb-feb0c10efa72",
   "metadata": {},
   "source": [
    "![horizontal-angle.drawio.png](attachment:28533dc9-43e1-413e-9241-76a9b92da0e6.png)"
   ]
  },
  {
   "cell_type": "markdown",
   "id": "06988efc-5644-45cb-b03b-d5cdfe018cf1",
   "metadata": {},
   "source": [
    "Law of cosines\n",
    "$$ \\gamma = \\arccos\\left(\\frac{a^2+b^2-c^2}{2ab}\\right) $$"
   ]
  },
  {
   "cell_type": "code",
   "execution_count": 4,
   "id": "f4b1c604-f183-4c34-a97c-ebe034c9ecd1",
   "metadata": {
    "tags": []
   },
   "outputs": [],
   "source": [
    "def get_horizontal_angle():\n",
    "    a = distance(antenna_coordinates, min_site_south_coordinates).m\n",
    "    b = distance(antenna_coordinates, min_site_north_coordinates).m\n",
    "    c = distance(min_site_south_coordinates, min_site_north_coordinates).m\n",
    "    \n",
    "    return math.acos((a**2 + b**2 - c**2) / (2*a*b))"
   ]
  },
  {
   "cell_type": "code",
   "execution_count": 5,
   "id": "aea67a77-b7af-476c-a9ec-ba4af62dfd98",
   "metadata": {
    "tags": []
   },
   "outputs": [
    {
     "name": "stdout",
     "output_type": "stream",
     "text": [
      "horizontal angle: 1.01 radians\n"
     ]
    }
   ],
   "source": [
    "horizontal_angle = get_horizontal_angle()\n",
    "\n",
    "print(f'horizontal angle: {horizontal_angle:.2f} radians')"
   ]
  },
  {
   "cell_type": "markdown",
   "id": "150f5352-6c86-4ad5-a727-cc25e11e9573",
   "metadata": {},
   "source": [
    "## Vertical Angle"
   ]
  },
  {
   "cell_type": "markdown",
   "id": "364711b2-d2b5-415a-8c5d-2f813162724e",
   "metadata": {},
   "source": [
    "### Naive Vertical Angle"
   ]
  },
  {
   "attachments": {
    "8e90b402-6526-4a2f-97f5-be0f964c97c9.png": {
     "image/png": "[encoded data removed]"
    }
   },
   "cell_type": "markdown",
   "id": "0ed89c78-6b01-4b4b-ac8d-546c1239d53e",
   "metadata": {},
   "source": [
    "![vertical-angle.drawio.png](attachment:8e90b402-6526-4a2f-97f5-be0f964c97c9.png)"
   ]
  },
  {
   "cell_type": "markdown",
   "id": "83fdb6f4-dc64-4324-a384-5c51307ea2ad",
   "metadata": {},
   "source": [
    "$$ tan(\\alpha) = \\frac{a}{h} $$\n",
    "$$ tan(\\beta) = \\frac{b}{h} $$\n",
    "$$ \\rightarrow \\beta - \\alpha $$"
   ]
  },
  {
   "cell_type": "code",
   "execution_count": 6,
   "id": "a836f8c7-2af6-4585-a5dd-5cccce8da99d",
   "metadata": {
    "tags": []
   },
   "outputs": [],
   "source": [
    "def get_vertical_angle():\n",
    "    a = distance(antenna_coordinates, min_site_coordinates).m\n",
    "    b = distance(antenna_coordinates, max_site_coordinates).m\n",
    "    h = antenna_building_height_m\n",
    "    \n",
    "    alpha = math.atan(a/h)\n",
    "    beta = math.atan(b/h)\n",
    "    \n",
    "    return beta - alpha"
   ]
  },
  {
   "cell_type": "code",
   "execution_count": 7,
   "id": "63260fc4-a5e6-4f63-9684-e3604f674e69",
   "metadata": {
    "tags": []
   },
   "outputs": [
    {
     "name": "stdout",
     "output_type": "stream",
     "text": [
      "vertical angle: 0.01 radians\n"
     ]
    }
   ],
   "source": [
    "vertical_angle = get_vertical_angle()\n",
    "\n",
    "print(f'vertical angle: {vertical_angle:.2f} radians')"
   ]
  },
  {
   "cell_type": "markdown",
   "id": "1f487c28-18d7-426e-85bc-1b0bc716a677",
   "metadata": {},
   "source": [
    "### Vertical Angle including Heigth"
   ]
  },
  {
   "cell_type": "code",
   "execution_count": 8,
   "id": "903cc99d-50f2-4616-b45c-3c088616eacf",
   "metadata": {
    "tags": []
   },
   "outputs": [],
   "source": [
    "import requests\n",
    "import pandas as pd\n",
    "import urllib3\n",
    "urllib3.disable_warnings(urllib3.exceptions.InsecureRequestWarning)\n",
    "\n",
    "def get_elevation(coordinates):\n",
    "    lat, long = coordinates\n",
    "    query = ('https://api.open-elevation.com/api/v1/lookup'\n",
    "             f'?locations={lat},{long}')\n",
    "    r = requests.get(query, verify=False).json()\n",
    "    elevation = r['results'][0]['elevation']\n",
    "    return elevation"
   ]
  },
  {
   "cell_type": "code",
   "execution_count": 9,
   "id": "7a0431b2-72f6-4073-9835-47e68ca83c7b",
   "metadata": {
    "tags": []
   },
   "outputs": [
    {
     "name": "stdout",
     "output_type": "stream",
     "text": [
      "building elevation: 11.00 m\n",
      "antenna elevation: 31.00 m\n",
      "max site elevation: 9.00 m\n",
      "min site elevation: 5.00 m\n"
     ]
    }
   ],
   "source": [
    "building_elevation_m = get_elevation(antenna_coordinates)\n",
    "antenna_elevation_m = building_elevation_m + antenna_building_height_m\n",
    "\n",
    "max_site_elevation_m = get_elevation(max_site_coordinates)\n",
    "min_site_elevation_m = get_elevation(min_site_coordinates)\n",
    "\n",
    "print(f'building elevation: {building_elevation_m:.2f} m')\n",
    "print(f'antenna elevation: {antenna_elevation_m:.2f} m')\n",
    "print(f'max site elevation: {max_site_elevation_m:.2f} m')\n",
    "print(f'min site elevation: {min_site_elevation_m:.2f} m')"
   ]
  },
  {
   "attachments": {
    "5cb4004b-679d-4f7a-98e5-65b232761531.png": {
     "image/png": "[encoded data removed]"
    }
   },
   "cell_type": "markdown",
   "id": "d20d2617-43d1-4e2b-83b3-72cc001eaab6",
   "metadata": {},
   "source": [
    "![elevation.drawio.png](attachment:5cb4004b-679d-4f7a-98e5-65b232761531.png)"
   ]
  },
  {
   "cell_type": "markdown",
   "id": "d5349cf6-1832-488e-b749-296eaf3871b5",
   "metadata": {},
   "source": [
    "## Video Bandwidth\n",
    "\n",
    "**Question:** Calculate the needed bandwidth to reliably stream a 4K image. Document your assumptions in terms of compression."
   ]
  },
  {
   "cell_type": "markdown",
   "id": "f550f43e-3fb3-4f4a-a76f-71324d5dd940",
   "metadata": {
    "tags": []
   },
   "source": [
    "Data Rate = Resolution $\\times$ Frame Rate $\\times$ Color Depth $\\times$ Compression Ratio\n",
    "```\n",
    "- Data Rate   [bits/seconds]\n",
    "- Resolution  [pixels/frame]\n",
    "- Frame Rate  [frames/second]\n",
    "- Color Depth [bits/pixel]\n",
    "- Compression Ratio\n",
    "```\n",
    "\n",
    "Assume a compression ratio of 1/150\n",
    "\n",
    "**Sources:**\n",
    "- The recommend internet connection speed for playing 4K video from netflix is 15 Mbps\n",
    "    - https://help.netflix.com/en/node/306"
   ]
  },
  {
   "cell_type": "code",
   "execution_count": 10,
   "id": "7187e5c8-c038-43c8-9e86-4b415f1a51d7",
   "metadata": {
    "tags": []
   },
   "outputs": [
    {
     "name": "stdout",
     "output_type": "stream",
     "text": [
      "target data rate: 16.59 Mbps\n"
     ]
    }
   ],
   "source": [
    "def get_data_rate_bps(resolution, frame_rate, color_depth, compression_ratio):\n",
    "    return resolution * frame_rate * color_depth * compression_ratio\n",
    "\n",
    "target_data_rate_bps = get_data_rate_bps(\n",
    "    resolution=3840 * 2160,\n",
    "    frame_rate=30,\n",
    "    color_depth=10,\n",
    "    compression_ratio=1/150\n",
    ")\n",
    "\n",
    "target_data_rate_mbps = target_data_rate_bps / 1_000_000\n",
    "\n",
    "print(f'target data rate: {target_data_rate_mbps:.2f} Mbps')"
   ]
  },
  {
   "cell_type": "markdown",
   "id": "464422c4-ce9b-4be4-aaad-6b1a63b9e7bc",
   "metadata": {},
   "source": [
    "**Question:** Break down the terms contributing to the e2e latency of your systems (from video capture to playback). \n",
    "\n",
    "**Answer:**\n",
    "\n",
    "- Capture Latency: The time it takes for the camera to capture the video frames and send them to the encoder.\n",
    "\n",
    "- Encoding Latency: The time it takes for the video to be encoded by the video encoder.\n",
    "\n",
    "- Transmission Latency: The time it takes for the encoded video to be transmitted over the network to the viewer's device.\n",
    "\n",
    "- Decoding Latency: The time it takes for the video to be decoded by the viewer's device.\n",
    "\n",
    "- Display Latency: The time it takes for the decoded video to be displayed on the viewer's screen.\n",
    "\n",
    "**Sources:**\n",
    "- ChatGPT Mar 23 Version"
   ]
  },
  {
   "cell_type": "markdown",
   "id": "425a5d59-961d-4b35-a6b3-598615a99fe6",
   "metadata": {},
   "source": [
    "**Question:** Make a choice as to which latency you are willing to accept. Why?\n",
    "\n",
    "**Answer:**\n",
    "Different use cases have varying levels of acceptable latency.\n",
    "\n",
    "| Latency | Use Case                         |\n",
    "|---------|----------------------------------|\n",
    "| 45 s    | Conference Video Broadcasts      |\n",
    "| 5 s     | Consumer IP Cameras, Live Sports |\n",
    "| 500 ms  | Online auctions, security camera |\n",
    "| 200 ms  | VOIP, video chat                 |\n",
    "\n",
    "Our use case aligns best with the 500 ms latency.\n",
    "\n",
    "**Sources:**\n",
    "- https://www.rhombus.com/blog/guide-to-ultra-low-latency-ip-cameras-for-live-video-streaming/\n",
    "- https://www.worldcast.group/low-latency-video-communication/"
   ]
  },
  {
   "cell_type": "markdown",
   "id": "26874fba-8794-4dcc-8e32-7fd872fcd778",
   "metadata": {},
   "source": [
    "**Question:** Do you have requirements wrt. packet loss? Why?\n",
    "\n",
    "**Answer:**\n",
    "\n",
    "| Loss    | Rating     |\n",
    "|---------|------------|\n",
    "| <1%     | good       |\n",
    "| 1%-2.5% | acceptable |\n",
    "| 2.5%-5% | poor       |\n",
    "\n",
    "I believe an \"acceptable\" rating to be reasonable.\n",
    "So we aim for a maximum of 2.5% packet loss.\n",
    "\n",
    "**Sources:**\n",
    "- https://web.archive.org/web/20131010010244/http://sdu.ictp.it/pinger/pinger.html\n"
   ]
  },
  {
   "cell_type": "code",
   "execution_count": null,
   "id": "04e31b8f-65f9-40c1-932b-458d59a52e03",
   "metadata": {},
   "outputs": [],
   "source": []
  }
 ],
 "metadata": {
  "kernelspec": {
   "display_name": "Python 3 (ipykernel)",
   "language": "python",
   "name": "python3"
  },
  "language_info": {
   "codemirror_mode": {
    "name": "ipython",
    "version": 3
   },
   "file_extension": ".py",
   "mimetype": "text/x-python",
   "name": "python",
   "nbconvert_exporter": "python",
   "pygments_lexer": "ipython3",
   "version": "3.10.4"
  }
 },
 "nbformat": 4,
 "nbformat_minor": 5
}
