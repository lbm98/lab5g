{
 "cells": [
  {
   "attachments": {},
   "cell_type": "markdown",
   "id": "cbead912-2722-4529-aab7-5e4285994661",
   "metadata": {},
   "source": [
    "# Iperf\n",
    "\n",
    "```\n",
    "docker exec -it rfsim5g-oai-nr-ue bash\n",
    "opt/oai-nr-ue# iperf -B 12.1.1.2 -u -i 1 -s\n",
    "```\n",
    "\n",
    "```\n",
    "docker exec -it rfsim5g-oai-ext-dn bash\n",
    "iperf -c 12.1.1.2 -u -i 1 -t 20 -b 500K\n",
    "```"
   ]
  },
  {
   "cell_type": "code",
   "execution_count": null,
   "id": "887d4992-fa7b-4722-bfd0-088a92795317",
   "metadata": {},
   "outputs": [],
   "source": []
  }
 ],
 "metadata": {
  "kernelspec": {
   "display_name": "Python 3 (ipykernel)",
   "language": "python",
   "name": "python3"
  },
  "language_info": {
   "codemirror_mode": {
    "name": "ipython",
    "version": 3
   },
   "file_extension": ".py",
   "mimetype": "text/x-python",
   "name": "python",
   "nbconvert_exporter": "python",
   "pygments_lexer": "ipython3",
   "version": "3.10.6"
  }
 },
 "nbformat": 4,
 "nbformat_minor": 5
}
