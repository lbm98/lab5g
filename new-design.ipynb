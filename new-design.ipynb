{
 "cells": [
  {
   "cell_type": "code",
   "execution_count": 1,
   "id": "14e2e41c-52d6-4815-a646-790f90a6c99a",
   "metadata": {},
   "outputs": [],
   "source": [
    "import math\n",
    "\n",
    "def convert_milli_watt_to_dbm(x):\n",
    "    return 10 * math.log10(x)\n",
    "\n",
    "def convert_dbm_to_milli_watt(x):\n",
    "    return math.pow(10, x/10)\n",
    "\n",
    "def convert_ratio_to_db(x):\n",
    "    return 10 * math.log10(x)"
   ]
  },
  {
   "cell_type": "markdown",
   "id": "eef5dcc5-f43a-465a-9ef4-116cd8deefc6",
   "metadata": {},
   "source": [
    "## Requirements\n",
    "\n",
    "\n",
    "- The `dBi` unit represents the gain of an antenna in decibels relative to an isotropic radiator\n",
    "\n",
    "- The `noise figure` is a measure of how much noise is added by a device or component, such as an amplifier or a receiver, to the signal passing through it\n",
    "    - Lower is better\n",
    "    - Reduces the SNR\n",
    "    - NF(dB) = SNR_in(dB) - SNR_out(dB)\n",
    "    - SNR_out(dB) = SNR_in(dB) - NF(dB)\n",
    "    \n",
    "- The `receive sensitivity` is the minimum power level of an incoming signal that the receiver can detect and correctly decode.\n",
    "    - Higher is better\n",
    "\n",
    "- The `CQI` is the Channel Quality Indicator\n",
    "\n",
    "- The `MCS` is the Modulation and Coding Scheme"
   ]
  },
  {
   "cell_type": "code",
   "execution_count": 2,
   "id": "9a33a333-0740-4a19-81a2-d1fb88355934",
   "metadata": {},
   "outputs": [],
   "source": [
    "bandwidth_hz = 20e6\n",
    "frequency_hz = 2e9\n",
    "\n",
    "gnb_transmit_power_milli_watt = 1e3\n",
    "gnb_cable_loss_db = 0.5\n",
    "gnb_noise_figure_db = 5\n",
    "gnb_receive_sensitivity_dbm = -102\n",
    "gnb_antenna_gain_dbi = 17\n",
    "\n",
    "ue_transmit_power_dbm = 21\n",
    "ue_cable_loss_db = 0.5\n",
    "ue_noise_figure_db = 9\n",
    "ue_receive_sensitivity_dbm = -95\n",
    "ua_antenna_gain_dbi = 0"
   ]
  },
  {
   "cell_type": "code",
   "execution_count": 3,
   "id": "98089ab9-1d9b-4e98-b65f-9c4e58aa778b",
   "metadata": {},
   "outputs": [
    {
     "name": "stdout",
     "output_type": "stream",
     "text": [
      "gNodeB transmit power: 30.00 dBm\n"
     ]
    }
   ],
   "source": [
    "gnb_transmit_power_dbm = convert_milli_watt_to_dbm(gnb_transmit_power_milli_watt)\n",
    "\n",
    "print(f'gNodeB transmit power: {gnb_transmit_power_dbm:.2f} dBm')"
   ]
  },
  {
   "cell_type": "markdown",
   "id": "784779a7-0c6c-4138-a6fa-d14aef127fb3",
   "metadata": {},
   "source": [
    "## Target Data Rate for 4K Stream\n",
    "\n",
    "- The recommend internet connection speed for playing 4K video from Netflix is 15 Mbps\n",
    "    - https://help.netflix.com/en/node/306"
   ]
  },
  {
   "cell_type": "code",
   "execution_count": 4,
   "id": "0ff22254-f63e-46fe-b045-6459518bde8a",
   "metadata": {},
   "outputs": [],
   "source": [
    "target_data_rate_bps = 15e6"
   ]
  },
  {
   "cell_type": "markdown",
   "id": "fe1f7fdc-059b-40f3-8868-7d2cc56986a5",
   "metadata": {},
   "source": [
    "## Target Channel Capacity\n",
    "\n",
    "$$ \\mathrm{SNR} = 2^{\\frac{C}{B}} - 1 $$\n",
    "\n",
    "- https://www.rfwireless-world.com/calculators/channel-capacity-calculator.html"
   ]
  },
  {
   "cell_type": "code",
   "execution_count": 5,
   "id": "c89758dd-b09a-4d9b-ac66-275823af1e10",
   "metadata": {},
   "outputs": [],
   "source": [
    "def get_channel_snr(capacity_bps, bandwidth_hz):\n",
    "    return math.pow(2, capacity_bps / bandwidth_hz) - 1"
   ]
  },
  {
   "cell_type": "code",
   "execution_count": 6,
   "id": "2486d40a-824d-4990-a918-4cf34a52c6b4",
   "metadata": {
    "tags": []
   },
   "outputs": [
    {
     "name": "stdout",
     "output_type": "stream",
     "text": [
      "target channel SNR: 0.68 or -1.66 dB\n"
     ]
    }
   ],
   "source": [
    "target_channel_snr = get_channel_snr(target_data_rate_bps, bandwidth_hz)\n",
    "target_channel_snr_db = convert_ratio_to_db(target_channel_snr)\n",
    "\n",
    "print(f'target channel SNR: {target_channel_snr:.2f} or {target_channel_snr_db:.2f} dB')"
   ]
  },
  {
   "cell_type": "markdown",
   "id": "5c614392-5ff4-40c5-a6f8-d7507f718bd7",
   "metadata": {},
   "source": [
    "## Thermal Noise\n",
    "\n",
    "- https://www.everythingrf.com/rf-calculators/noise-power-calculator"
   ]
  },
  {
   "cell_type": "code",
   "execution_count": 7,
   "id": "edd31edc-9311-4305-ba24-8855ece3b146",
   "metadata": {
    "tags": []
   },
   "outputs": [
    {
     "name": "stdout",
     "output_type": "stream",
     "text": [
      "thermal noise: -100.97 dBm\n"
     ]
    }
   ],
   "source": [
    "def get_ktb_noise_dbm(bandwidth_hz, temperature_k=290):\n",
    "    k = 1.38e-23  # Boltzmann constant\n",
    "    return 10 * math.log10((k * bandwidth_hz * temperature_k)/1e-3)\n",
    "\n",
    "ktb_noise_dbm = get_ktb_noise_dbm(bandwidth_hz)\n",
    "\n",
    "print(f'thermal noise: {ktb_noise_dbm:.2f} dBm')"
   ]
  },
  {
   "cell_type": "markdown",
   "id": "18096168-db22-443b-9928-a40f60ae396c",
   "metadata": {},
   "source": [
    "## Target Receive Power\n",
    "\n",
    "$$ \\mathrm{SNR_{dB}} = P_\\mathrm{signal,dBm} - P_\\mathrm{noise,dBm} $$\n",
    "$$ P_\\mathrm{signal,dBm} = \\mathrm{SNR_{dB}} + P_\\mathrm{noise,dBm} $$"
   ]
  },
  {
   "cell_type": "code",
   "execution_count": 8,
   "id": "2819563a-acd4-408f-9700-8a8edd9ef6fd",
   "metadata": {
    "tags": []
   },
   "outputs": [
    {
     "name": "stdout",
     "output_type": "stream",
     "text": [
      "target receive power: -102.63 dBm\n"
     ]
    }
   ],
   "source": [
    "target_receive_power_dbm = target_channel_snr_db + ktb_noise_dbm\n",
    "\n",
    "print(f'target receive power: {target_receive_power_dbm:.2f} dBm')"
   ]
  },
  {
   "cell_type": "markdown",
   "id": "b9bd188a-f7ee-4e1d-b820-89a820fc5d42",
   "metadata": {},
   "source": [
    "## Include Receiver Sensitivity"
   ]
  },
  {
   "cell_type": "code",
   "execution_count": 9,
   "id": "1bbdc38a-0081-455c-a602-39297adefd34",
   "metadata": {
    "tags": []
   },
   "outputs": [
    {
     "name": "stdout",
     "output_type": "stream",
     "text": [
      "new receive sensitivity: -86.00 dBm\n"
     ]
    }
   ],
   "source": [
    "new_ue_receive_sensitivity_dbm = ue_receive_sensitivity_dbm + ue_noise_figure_db\n",
    "\n",
    "print(f'new receive sensitivity: {new_ue_receive_sensitivity_dbm:.2f} dBm')"
   ]
  },
  {
   "cell_type": "code",
   "execution_count": 10,
   "id": "b7966981-ca99-4c27-94bf-b133caf21622",
   "metadata": {
    "tags": []
   },
   "outputs": [
    {
     "name": "stdout",
     "output_type": "stream",
     "text": [
      "WARNING: the target receiver power is below the sensitivity\n",
      "new target receive power: -86.00 dBm\n"
     ]
    }
   ],
   "source": [
    "if target_receive_power_dbm < new_ue_receive_sensitivity_dbm:\n",
    "    print('WARNING: the target receiver power is below the sensitivity')\n",
    "    target_receive_power_dbm = new_ue_receive_sensitivity_dbm\n",
    "\n",
    "print(f'new target receive power: {target_receive_power_dbm:.2f} dBm')"
   ]
  },
  {
   "cell_type": "markdown",
   "id": "7949a0f4-3ac6-4f97-81fa-af884f240f75",
   "metadata": {},
   "source": [
    "## Free Space Path Loss\n",
    "\n",
    "- https://www.everythingrf.com/rf-calculators/free-space-path-loss-calculator"
   ]
  },
  {
   "cell_type": "code",
   "execution_count": 11,
   "id": "c346e140-8790-44ed-ad91-33dc39dfcf86",
   "metadata": {
    "tags": []
   },
   "outputs": [],
   "source": [
    "antenna_coordinates = [51.225779846347535, 4.400503131269632]\n",
    "min_site_coordinates = [51.227090, 4.393261]\n",
    "max_site_coordinates = [51.227990333375544, 4.389441701586266]"
   ]
  },
  {
   "cell_type": "code",
   "execution_count": 12,
   "id": "cd09cdc5-c6fe-4c2b-b16c-f087a8a5c257",
   "metadata": {
    "tags": []
   },
   "outputs": [
    {
     "name": "stdout",
     "output_type": "stream",
     "text": [
      "min distance: 526.48 m\n",
      "max distance: 810.88 m\n"
     ]
    }
   ],
   "source": [
    "from geopy import distance\n",
    "\n",
    "min_distance_m = distance.distance(antenna_coordinates, min_site_coordinates).m\n",
    "max_distance_m = distance.distance(antenna_coordinates, max_site_coordinates).m\n",
    "\n",
    "print(f'min distance: {min_distance_m:.2f} m')\n",
    "print(f'max distance: {max_distance_m:.2f} m')"
   ]
  },
  {
   "cell_type": "code",
   "execution_count": 13,
   "id": "f15508e1-93da-4441-be85-76b988d1d050",
   "metadata": {
    "tags": []
   },
   "outputs": [
    {
     "name": "stdout",
     "output_type": "stream",
     "text": [
      "max FSPL: 96.65 dB\n"
     ]
    }
   ],
   "source": [
    "def get_fspl_db(distance_m, frequency_hz):\n",
    "    return 20 * math.log10(distance_m) + 20 * math.log10(frequency_hz) - 147.55\n",
    "\n",
    "max_fspl_db = get_fspl_db(max_distance_m, frequency_hz)\n",
    "\n",
    "print(f'max FSPL: {max_fspl_db:.2f} dB')"
   ]
  },
  {
   "cell_type": "markdown",
   "id": "49080e72-4f4f-4e81-ab3a-c92823c59a4a",
   "metadata": {},
   "source": [
    "## Power Gains"
   ]
  },
  {
   "cell_type": "code",
   "execution_count": 14,
   "id": "b5a26f7e-973c-4ee6-80ab-3937b256fbad",
   "metadata": {
    "tags": []
   },
   "outputs": [
    {
     "name": "stdout",
     "output_type": "stream",
     "text": [
      "power gains: 16.00 dB\n"
     ]
    }
   ],
   "source": [
    "power_gains_db = gnb_antenna_gain_dbi + ua_antenna_gain_dbi - gnb_cable_loss_db - ue_cable_loss_db\n",
    "\n",
    "print(f'power gains: {power_gains_db:.2f} dB')"
   ]
  },
  {
   "cell_type": "markdown",
   "id": "7d970fb7-ba9a-420e-b754-1332c6d4cf84",
   "metadata": {},
   "source": [
    "## Target Transmit Power\n",
    "\n",
    "$$ P_\\mathrm{receive,dBm} = P_\\mathrm{gains,dB} - P_\\mathrm{FSPL,dB} + P_\\mathrm{transmit,dBm} $$\n",
    "$$ P_\\mathrm{transmit,dBm} = P_\\mathrm{receive,dBm} - P_\\mathrm{gains,dB} + P_\\mathrm{FSPL,dB} $$"
   ]
  },
  {
   "cell_type": "code",
   "execution_count": 15,
   "id": "34c9b852-8c39-437e-b9eb-f05524a83115",
   "metadata": {
    "tags": []
   },
   "outputs": [
    {
     "name": "stdout",
     "output_type": "stream",
     "text": [
      "target transmit power: -5.35 dBm or 0.29 mW\n"
     ]
    }
   ],
   "source": [
    "target_transmit_power_dbm = target_receive_power_dbm - power_gains_db + max_fspl_db\n",
    "target_transmit_power_milli_watt = convert_dbm_to_milli_watt(target_transmit_power_dbm)\n",
    "\n",
    "print(f'target transmit power: {target_transmit_power_dbm:.2f} dBm or {target_transmit_power_milli_watt:.2f} mW')"
   ]
  },
  {
   "cell_type": "code",
   "execution_count": null,
   "id": "4912ebc3-ecca-495b-8dbb-98fcfc874bb9",
   "metadata": {},
   "outputs": [],
   "source": []
  }
 ],
 "metadata": {
  "kernelspec": {
   "display_name": "Python 3 (ipykernel)",
   "language": "python",
   "name": "python3"
  },
  "language_info": {
   "codemirror_mode": {
    "name": "ipython",
    "version": 3
   },
   "file_extension": ".py",
   "mimetype": "text/x-python",
   "name": "python",
   "nbconvert_exporter": "python",
   "pygments_lexer": "ipython3",
   "version": "3.10.4"
  }
 },
 "nbformat": 4,
 "nbformat_minor": 5
}
