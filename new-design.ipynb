{
 "cells": [
  {
   "cell_type": "markdown",
   "id": "413eefc8-bda5-451d-9c77-865d08641897",
   "metadata": {},
   "source": [
    "# RF Design"
   ]
  },
  {
   "cell_type": "code",
   "execution_count": 6,
   "id": "14e2e41c-52d6-4815-a646-790f90a6c99a",
   "metadata": {},
   "outputs": [],
   "source": [
    "import math\n",
    "\n",
    "def convert_milli_watt_to_dbm(x):\n",
    "    return 10 * math.log10(x)\n",
    "\n",
    "def convert_dbm_to_milli_watt(x):\n",
    "    return math.pow(10, x/10)\n",
    "\n",
    "def convert_ratio_to_db(x):\n",
    "    return 10 * math.log10(x)"
   ]
  },
  {
   "cell_type": "markdown",
   "id": "eef5dcc5-f43a-465a-9ef4-116cd8deefc6",
   "metadata": {},
   "source": [
    "### Definitions\n",
    "\n",
    "\n",
    "- The `dBi` unit represents the gain of an antenna in decibels relative to an isotropic radiator\n",
    "\n",
    "- The `noise figure` is a measure of how much noise is added by a device or component, such as an amplifier or a receiver, to the signal passing through it\n",
    "    - Lower is better\n",
    "    - NF(dB) = SNR_in(dB) - SNR_out(dB)\n",
    "    - SNR_out(dB) = SNR_in(dB) - NF(dB)\n",
    "    \n",
    "- The `receive sensitivity` is the minimum power level of an incoming signal that the receiver can detect and correctly decode.\n",
    "    - Higher is better\n",
    "\n",
    "- The `CQI` is the Channel Quality Indicator\n",
    "\n",
    "- The `MCS` is the Modulation and Coding Scheme"
   ]
  },
  {
   "attachments": {
    "bc6c940d-a1cc-4786-bfdf-fe2839b6fb26.png": {
     "image/png": "[encoded data removed]"
    }
   },
   "cell_type": "markdown",
   "id": "48c28fd5-d2d9-4dfb-90b4-83594359c438",
   "metadata": {},
   "source": [
    "## Frequency Band\n",
    "\n",
    "**Question:** Choose a frequency band (downlink and uplink), SISO or MIMO scheme (the so-called c and bandwidth).\n",
    "\n",
    "**Answer:**\n",
    "\n",
    "Assumptions from course slides:\n",
    "- FFD band below 2GHz\n",
    "- max 1 W transmit power\n",
    "- max 20 MHz bandwidth\n",
    "\n",
    "Use the baseline:\n",
    "- 20 MHz bandwidth\n",
    "- SISO scheme\n",
    "- band name n3 1800 in FR1\n",
    "    - DL 1805-1880 MHz\n",
    "    - UL 1710-1785 MHz\n",
    "    - DL/UL 75 MHz bandwidth\n",
    "    - Duplex Spacing 95 MHz\n",
    "\n",
    "**Sources:**\n",
    "- Course Slides\n",
    "- https://www.sqimway.com/nr_band.php\n",
    "\n",
    "![frequency-band.png](attachment:bc6c940d-a1cc-4786-bfdf-fe2839b6fb26.png)"
   ]
  },
  {
   "cell_type": "markdown",
   "id": "13080ace-6f81-4c31-bd50-cdae328da429",
   "metadata": {},
   "source": [
    "## Antenna Choice\n",
    "\n",
    "- https://www.wifi-shop24.com/5g-4g-multiband-outdoor-panel-antenna-8dbi-mimo\n",
    "- 8dBi @ 1700 - 2700 MHz"
   ]
  },
  {
   "cell_type": "code",
   "execution_count": 7,
   "id": "9a33a333-0740-4a19-81a2-d1fb88355934",
   "metadata": {},
   "outputs": [],
   "source": [
    "bandwidth_hz = 20e6\n",
    "\n",
    "dl_frequency_hz = 1842.5e6\n",
    "ul_frequency_hz = 1747.5e6\n",
    "\n",
    "gnb_transmit_power_milli_watt = 1e3\n",
    "gnb_cable_loss_db = 0.5\n",
    "gnb_noise_figure_db = 5\n",
    "gnb_receive_sensitivity_dbm = -102\n",
    "gnb_antenna_gain_dbi = 8\n",
    "\n",
    "ue_transmit_power_dbm = 21\n",
    "ue_cable_loss_db = 0.5\n",
    "ue_noise_figure_db = 9\n",
    "ue_receive_sensitivity_dbm = -95\n",
    "ua_antenna_gain_dbi = 0\n",
    "\n",
    "target_data_rate_bps = 15e6"
   ]
  },
  {
   "cell_type": "code",
   "execution_count": 8,
   "id": "5f4fae4e-baa3-4c92-b3ab-a68016ecb0d8",
   "metadata": {
    "tags": []
   },
   "outputs": [
    {
     "name": "stdout",
     "output_type": "stream",
     "text": [
      "spectral efficiency: 0.75 bps/Hz\n"
     ]
    }
   ],
   "source": [
    "spectral_efficiency_bps_per_hz = target_data_rate_bps / bandwidth_hz\n",
    "\n",
    "print(f'spectral efficiency: {spectral_efficiency_bps_per_hz} bps/Hz')"
   ]
  },
  {
   "cell_type": "markdown",
   "id": "d5107147-b4a3-42bc-a7e8-4915b83c7d78",
   "metadata": {},
   "source": [
    "## CQI Index\n",
    "\n",
    "**Question:** Given these parameters, and the video requirements given higher up, calculate the theoretical CQI (MCS) index that would be required and derive the needed SNR from it.\n",
    "\n",
    "**Answer:**\n",
    "To achieve a rate of (at least) 15 Mbps on a 20 Mhz bandwidth, we need a spectral efficiency of 0.75 bps/Hz (or more).\n",
    "Therefore, the minimum CQI index is 5, which uses QPSK modulation and an SINR estimate of 2.4 dB.\n",
    "\n",
    "**Sources:**\n",
    "- Course Slides Table 7.1"
   ]
  },
  {
   "cell_type": "markdown",
   "id": "a0adb37f-fa3f-46ec-bddc-974fb65a7fea",
   "metadata": {
    "tags": []
   },
   "source": [
    "## Channel Propagation Model\n",
    "\n",
    "**Question:** Choose a (suitable) wireless channel propagation model. Provide your rationale.\n",
    "\n",
    "**Answer:**\n",
    "We need to transmit packets from a tall building across the Schelde river to an open field with no obstructions.\n",
    "Therefore, the simple `Friis` free space propagation model appears to be a suitable solution.\n",
    "\n",
    "**Sources:**\n",
    "- Course Slides Table 11.4"
   ]
  },
  {
   "cell_type": "markdown",
   "id": "fe1f7fdc-059b-40f3-8868-7d2cc56986a5",
   "metadata": {},
   "source": [
    "## Target Channel Capacity\n",
    "\n",
    "$$ \\mathrm{SNR} = 2^{\\frac{C}{B}} - 1 $$\n",
    "\n",
    "- https://www.rfwireless-world.com/calculators/channel-capacity-calculator.html"
   ]
  },
  {
   "cell_type": "code",
   "execution_count": 10,
   "id": "c89758dd-b09a-4d9b-ac66-275823af1e10",
   "metadata": {},
   "outputs": [],
   "source": [
    "def get_channel_snr(capacity_bps, bandwidth_hz):\n",
    "    return math.pow(2, capacity_bps / bandwidth_hz) - 1"
   ]
  },
  {
   "cell_type": "code",
   "execution_count": 11,
   "id": "2486d40a-824d-4990-a918-4cf34a52c6b4",
   "metadata": {
    "tags": []
   },
   "outputs": [
    {
     "name": "stdout",
     "output_type": "stream",
     "text": [
      "target channel SNR: 0.68 or -1.66 dB\n"
     ]
    }
   ],
   "source": [
    "target_channel_snr = get_channel_snr(target_data_rate_bps, bandwidth_hz)\n",
    "target_channel_snr_db = convert_ratio_to_db(target_channel_snr)\n",
    "\n",
    "print(f'target channel SNR: {target_channel_snr:.2f} or {target_channel_snr_db:.2f} dB')"
   ]
  },
  {
   "cell_type": "markdown",
   "id": "5c614392-5ff4-40c5-a6f8-d7507f718bd7",
   "metadata": {},
   "source": [
    "## Thermal Noise\n",
    "\n",
    "- https://www.everythingrf.com/rf-calculators/noise-power-calculator"
   ]
  },
  {
   "cell_type": "code",
   "execution_count": 13,
   "id": "edd31edc-9311-4305-ba24-8855ece3b146",
   "metadata": {
    "tags": []
   },
   "outputs": [
    {
     "name": "stdout",
     "output_type": "stream",
     "text": [
      "thermal noise: -100.97 dBm\n"
     ]
    }
   ],
   "source": [
    "def get_ktb_noise_dbm(bandwidth_hz, temperature_k=290):\n",
    "    k = 1.38e-23  # Boltzmann constant\n",
    "    return 10 * math.log10((k * bandwidth_hz * temperature_k)/1e-3)\n",
    "\n",
    "ktb_noise_dbm = get_ktb_noise_dbm(bandwidth_hz)\n",
    "\n",
    "print(f'thermal noise: {ktb_noise_dbm:.2f} dBm')"
   ]
  },
  {
   "cell_type": "markdown",
   "id": "fbc75471-622f-421c-8b93-9731f81f62d6",
   "metadata": {},
   "source": [
    "## Total Noise"
   ]
  },
  {
   "cell_type": "code",
   "execution_count": 14,
   "id": "1e6eb8cf-11dc-4abe-b349-f7cbe1386620",
   "metadata": {
    "tags": []
   },
   "outputs": [
    {
     "name": "stdout",
     "output_type": "stream",
     "text": [
      "total noise: -91.97 dBm\n"
     ]
    }
   ],
   "source": [
    "total_noise_dbm = ktb_noise_dbm + ue_noise_figure_db\n",
    "\n",
    "print(f'total noise: {total_noise_dbm:.2f} dBm')"
   ]
  },
  {
   "cell_type": "markdown",
   "id": "18096168-db22-443b-9928-a40f60ae396c",
   "metadata": {},
   "source": [
    "## Target Receive Power\n",
    "\n",
    "$$ \\mathrm{SNR_{dB}} = P_\\mathrm{signal,dBm} - P_\\mathrm{noise,dBm} $$\n",
    "$$ P_\\mathrm{signal,dBm} = \\mathrm{SNR_{dB}} + P_\\mathrm{noise,dBm} $$"
   ]
  },
  {
   "cell_type": "code",
   "execution_count": 15,
   "id": "2819563a-acd4-408f-9700-8a8edd9ef6fd",
   "metadata": {
    "tags": []
   },
   "outputs": [
    {
     "name": "stdout",
     "output_type": "stream",
     "text": [
      "target receive power: -93.63 dBm\n"
     ]
    }
   ],
   "source": [
    "target_receive_power_dbm = target_channel_snr_db + total_noise_dbm\n",
    "\n",
    "print(f'target receive power: {target_receive_power_dbm:.2f} dBm')"
   ]
  },
  {
   "cell_type": "markdown",
   "id": "7949a0f4-3ac6-4f97-81fa-af884f240f75",
   "metadata": {},
   "source": [
    "## Free Space Path Loss\n",
    "\n",
    "- https://www.everythingrf.com/rf-calculators/free-space-path-loss-calculator"
   ]
  },
  {
   "cell_type": "code",
   "execution_count": 16,
   "id": "c346e140-8790-44ed-ad91-33dc39dfcf86",
   "metadata": {
    "tags": []
   },
   "outputs": [],
   "source": [
    "antenna_coordinates = [51.225779846347535, 4.400503131269632]\n",
    "min_site_coordinates = [51.227090, 4.393261]\n",
    "max_site_coordinates = [51.227990333375544, 4.389441701586266]"
   ]
  },
  {
   "cell_type": "code",
   "execution_count": 17,
   "id": "cd09cdc5-c6fe-4c2b-b16c-f087a8a5c257",
   "metadata": {
    "tags": []
   },
   "outputs": [
    {
     "name": "stdout",
     "output_type": "stream",
     "text": [
      "min distance: 526.48 m\n",
      "max distance: 810.88 m\n"
     ]
    }
   ],
   "source": [
    "from geopy import distance\n",
    "\n",
    "min_distance_m = distance.distance(antenna_coordinates, min_site_coordinates).m\n",
    "max_distance_m = distance.distance(antenna_coordinates, max_site_coordinates).m\n",
    "\n",
    "print(f'min distance: {min_distance_m:.2f} m')\n",
    "print(f'max distance: {max_distance_m:.2f} m')"
   ]
  },
  {
   "cell_type": "code",
   "execution_count": 20,
   "id": "f15508e1-93da-4441-be85-76b988d1d050",
   "metadata": {
    "tags": []
   },
   "outputs": [
    {
     "name": "stdout",
     "output_type": "stream",
     "text": [
      "max DL FSPL: 95.94 dB\n"
     ]
    }
   ],
   "source": [
    "def get_fspl_db(distance_m, frequency_hz):\n",
    "    return 20 * math.log10(distance_m) + 20 * math.log10(frequency_hz) - 147.55\n",
    "\n",
    "max_fspl_db = get_fspl_db(max_distance_m, dl_frequency_hz)\n",
    "\n",
    "print(f'max DL FSPL: {max_fspl_db:.2f} dB')"
   ]
  },
  {
   "cell_type": "markdown",
   "id": "49080e72-4f4f-4e81-ab3a-c92823c59a4a",
   "metadata": {},
   "source": [
    "## Power Gains"
   ]
  },
  {
   "cell_type": "code",
   "execution_count": 21,
   "id": "b5a26f7e-973c-4ee6-80ab-3937b256fbad",
   "metadata": {
    "tags": []
   },
   "outputs": [
    {
     "name": "stdout",
     "output_type": "stream",
     "text": [
      "power gains: 7.00 dB\n"
     ]
    }
   ],
   "source": [
    "power_gains_db = gnb_antenna_gain_dbi + ua_antenna_gain_dbi - gnb_cable_loss_db - ue_cable_loss_db\n",
    "\n",
    "print(f'power gains: {power_gains_db:.2f} dB')"
   ]
  },
  {
   "cell_type": "markdown",
   "id": "7d970fb7-ba9a-420e-b754-1332c6d4cf84",
   "metadata": {},
   "source": [
    "## Target Transmit Power\n",
    "\n",
    "$$ P_\\mathrm{receive,dBm} = P_\\mathrm{gains,dB} - P_\\mathrm{FSPL,dB} + P_\\mathrm{transmit,dBm} $$\n",
    "$$ P_\\mathrm{transmit,dBm} = P_\\mathrm{receive,dBm} - P_\\mathrm{gains,dB} + P_\\mathrm{FSPL,dB} $$"
   ]
  },
  {
   "cell_type": "code",
   "execution_count": 22,
   "id": "34c9b852-8c39-437e-b9eb-f05524a83115",
   "metadata": {
    "tags": []
   },
   "outputs": [
    {
     "name": "stdout",
     "output_type": "stream",
     "text": [
      "target transmit power: -4.69 dBm or 0.34 mW\n"
     ]
    }
   ],
   "source": [
    "target_transmit_power_dbm = target_receive_power_dbm - power_gains_db + max_fspl_db\n",
    "target_transmit_power_milli_watt = convert_dbm_to_milli_watt(target_transmit_power_dbm)\n",
    "\n",
    "print(f'target transmit power: {target_transmit_power_dbm:.2f} dBm or {target_transmit_power_milli_watt:.2f} mW')"
   ]
  },
  {
   "cell_type": "code",
   "execution_count": null,
   "id": "4912ebc3-ecca-495b-8dbb-98fcfc874bb9",
   "metadata": {},
   "outputs": [],
   "source": []
  }
 ],
 "metadata": {
  "kernelspec": {
   "display_name": "Python 3 (ipykernel)",
   "language": "python",
   "name": "python3"
  },
  "language_info": {
   "codemirror_mode": {
    "name": "ipython",
    "version": 3
   },
   "file_extension": ".py",
   "mimetype": "text/x-python",
   "name": "python",
   "nbconvert_exporter": "python",
   "pygments_lexer": "ipython3",
   "version": "3.10.4"
  }
 },
 "nbformat": 4,
 "nbformat_minor": 5
}
