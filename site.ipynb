{
 "cells": [
  {
   "cell_type": "code",
   "execution_count": 2,
   "id": "c0a027bb-dd17-4959-8414-84d9b5d1eaec",
   "metadata": {
    "tags": []
   },
   "outputs": [],
   "source": [
    "import math\n",
    "import folium\n",
    "import numpy as np\n",
    "from geopy.distance import distance"
   ]
  },
  {
   "cell_type": "code",
   "execution_count": 3,
   "id": "af89b891-37d2-455d-a7c4-ffbaf15ae73a",
   "metadata": {
    "tags": []
   },
   "outputs": [],
   "source": [
    "antenna_building_height_m = 20\n",
    "\n",
    "antenna_coordinates = [51.225779846347535, 4.400503131269632]\n",
    "min_site_coordinates = [51.227090, 4.393261]\n",
    "max_site_coordinates = [51.227990333375544, 4.389441701586266]\n",
    "min_site_north_coordinates = [51.22979961685109, 4.394331930457293]\n",
    "min_site_south_coordinates = [51.22466615115592, 4.391886179162105]"
   ]
  },
  {
   "cell_type": "code",
   "execution_count": 4,
   "id": "10304017-e48b-4eb3-b844-5de3904b9257",
   "metadata": {
    "tags": []
   },
   "outputs": [
    {
     "data": {
      "text/html": [
       "<div style=\"width:100%;\"><div style=\"position:relative;width:100%;height:0;padding-bottom:60%;\"><span style=\"color:#565656\">Make this Notebook Trusted to load map: File -> Trust Notebook</span><iframe srcdoc=\"&lt;!DOCTYPE html&gt;\n",
       "&lt;html&gt;\n",
       "&lt;head&gt;\n",
       "    \n",
       "    &lt;meta http-equiv=&quot;content-type&quot; content=&quot;text/html; charset=UTF-8&quot; /&gt;\n",
       "    \n",
       "        &lt;script&gt;\n",
       "            L_NO_TOUCH = false;\n",
       "            L_DISABLE_3D = false;\n",
       "        &lt;/script&gt;\n",
       "    \n",
       "    &lt;style&gt;html, body {width: 100%;height: 100%;margin: 0;padding: 0;}&lt;/style&gt;\n",
       "    &lt;style&gt;#map {position:absolute;top:0;bottom:0;right:0;left:0;}&lt;/style&gt;\n",
       "    &lt;script src=&quot;https://cdn.jsdelivr.net/npm/leaflet@1.9.3/dist/leaflet.js&quot;&gt;&lt;/script&gt;\n",
       "    &lt;script src=&quot;https://code.jquery.com/jquery-1.12.4.min.js&quot;&gt;&lt;/script&gt;\n",
       "    &lt;script src=&quot;https://cdn.jsdelivr.net/npm/bootstrap@5.2.2/dist/js/bootstrap.bundle.min.js&quot;&gt;&lt;/script&gt;\n",
       "    &lt;script src=&quot;https://cdnjs.cloudflare.com/ajax/libs/Leaflet.awesome-markers/2.0.2/leaflet.awesome-markers.js&quot;&gt;&lt;/script&gt;\n",
       "    &lt;link rel=&quot;stylesheet&quot; href=&quot;https://cdn.jsdelivr.net/npm/leaflet@1.9.3/dist/leaflet.css&quot;/&gt;\n",
       "    &lt;link rel=&quot;stylesheet&quot; href=&quot;https://cdn.jsdelivr.net/npm/bootstrap@5.2.2/dist/css/bootstrap.min.css&quot;/&gt;\n",
       "    &lt;link rel=&quot;stylesheet&quot; href=&quot;https://netdna.bootstrapcdn.com/bootstrap/3.0.0/css/bootstrap.min.css&quot;/&gt;\n",
       "    &lt;link rel=&quot;stylesheet&quot; href=&quot;https://cdn.jsdelivr.net/npm/@fortawesome/fontawesome-free@6.2.0/css/all.min.css&quot;/&gt;\n",
       "    &lt;link rel=&quot;stylesheet&quot; href=&quot;https://cdnjs.cloudflare.com/ajax/libs/Leaflet.awesome-markers/2.0.2/leaflet.awesome-markers.css&quot;/&gt;\n",
       "    &lt;link rel=&quot;stylesheet&quot; href=&quot;https://cdn.jsdelivr.net/gh/python-visualization/folium/folium/templates/leaflet.awesome.rotate.min.css&quot;/&gt;\n",
       "    \n",
       "            &lt;meta name=&quot;viewport&quot; content=&quot;width=device-width,\n",
       "                initial-scale=1.0, maximum-scale=1.0, user-scalable=no&quot; /&gt;\n",
       "            &lt;style&gt;\n",
       "                #map_ef3c927dbfbae12458fbd88bae9e66e6 {\n",
       "                    position: relative;\n",
       "                    width: 100.0%;\n",
       "                    height: 100.0%;\n",
       "                    left: 0.0%;\n",
       "                    top: 0.0%;\n",
       "                }\n",
       "                .leaflet-container { font-size: 1rem; }\n",
       "            &lt;/style&gt;\n",
       "        \n",
       "&lt;/head&gt;\n",
       "&lt;body&gt;\n",
       "    \n",
       "    \n",
       "            &lt;div class=&quot;folium-map&quot; id=&quot;map_ef3c927dbfbae12458fbd88bae9e66e6&quot; &gt;&lt;/div&gt;\n",
       "        \n",
       "&lt;/body&gt;\n",
       "&lt;script&gt;\n",
       "    \n",
       "    \n",
       "            var map_ef3c927dbfbae12458fbd88bae9e66e6 = L.map(\n",
       "                &quot;map_ef3c927dbfbae12458fbd88bae9e66e6&quot;,\n",
       "                {\n",
       "                    center: [51.22709, 4.393261],\n",
       "                    crs: L.CRS.EPSG3857,\n",
       "                    zoom: 15,\n",
       "                    zoomControl: true,\n",
       "                    preferCanvas: false,\n",
       "                }\n",
       "            );\n",
       "\n",
       "            \n",
       "\n",
       "        \n",
       "    \n",
       "            var tile_layer_3f68f3e1788e54f3d4d95212cefabb6e = L.tileLayer(\n",
       "                &quot;https://{s}.tile.openstreetmap.org/{z}/{x}/{y}.png&quot;,\n",
       "                {&quot;attribution&quot;: &quot;Data by \\u0026copy; \\u003ca target=\\&quot;_blank\\&quot; href=\\&quot;http://openstreetmap.org\\&quot;\\u003eOpenStreetMap\\u003c/a\\u003e, under \\u003ca target=\\&quot;_blank\\&quot; href=\\&quot;http://www.openstreetmap.org/copyright\\&quot;\\u003eODbL\\u003c/a\\u003e.&quot;, &quot;detectRetina&quot;: false, &quot;maxNativeZoom&quot;: 18, &quot;maxZoom&quot;: 18, &quot;minZoom&quot;: 0, &quot;noWrap&quot;: false, &quot;opacity&quot;: 1, &quot;subdomains&quot;: &quot;abc&quot;, &quot;tms&quot;: false}\n",
       "            ).addTo(map_ef3c927dbfbae12458fbd88bae9e66e6);\n",
       "        \n",
       "    \n",
       "            var marker_dbd4891bc6f22bb47f21fc18d078c289 = L.marker(\n",
       "                [51.225779846347535, 4.400503131269632],\n",
       "                {}\n",
       "            ).addTo(map_ef3c927dbfbae12458fbd88bae9e66e6);\n",
       "        \n",
       "    \n",
       "        var popup_3d78b47664b85edede7dc0874f9b7d58 = L.popup({&quot;maxWidth&quot;: &quot;100%&quot;});\n",
       "\n",
       "        \n",
       "            \n",
       "                var html_29414d43ee62b8ade7d592c936558b4c = $(`&lt;div id=&quot;html_29414d43ee62b8ade7d592c936558b4c&quot; style=&quot;width: 100.0%; height: 100.0%;&quot;&gt;antenna&lt;/div&gt;`)[0];\n",
       "                popup_3d78b47664b85edede7dc0874f9b7d58.setContent(html_29414d43ee62b8ade7d592c936558b4c);\n",
       "            \n",
       "        \n",
       "\n",
       "        marker_dbd4891bc6f22bb47f21fc18d078c289.bindPopup(popup_3d78b47664b85edede7dc0874f9b7d58)\n",
       "        ;\n",
       "\n",
       "        \n",
       "    \n",
       "    \n",
       "            var marker_16df7f48998b893356cf4027e86bed64 = L.marker(\n",
       "                [51.22709, 4.393261],\n",
       "                {}\n",
       "            ).addTo(map_ef3c927dbfbae12458fbd88bae9e66e6);\n",
       "        \n",
       "    \n",
       "        var popup_0be40a7836e41eff125b696d35270776 = L.popup({&quot;maxWidth&quot;: &quot;100%&quot;});\n",
       "\n",
       "        \n",
       "            \n",
       "                var html_369ba00c5121a4dc06fea790d646d1e4 = $(`&lt;div id=&quot;html_369ba00c5121a4dc06fea790d646d1e4&quot; style=&quot;width: 100.0%; height: 100.0%;&quot;&gt;min site&lt;/div&gt;`)[0];\n",
       "                popup_0be40a7836e41eff125b696d35270776.setContent(html_369ba00c5121a4dc06fea790d646d1e4);\n",
       "            \n",
       "        \n",
       "\n",
       "        marker_16df7f48998b893356cf4027e86bed64.bindPopup(popup_0be40a7836e41eff125b696d35270776)\n",
       "        ;\n",
       "\n",
       "        \n",
       "    \n",
       "    \n",
       "            var marker_2a63b3159d40d7c7dd75aa8ea1b27550 = L.marker(\n",
       "                [51.227990333375544, 4.389441701586266],\n",
       "                {}\n",
       "            ).addTo(map_ef3c927dbfbae12458fbd88bae9e66e6);\n",
       "        \n",
       "    \n",
       "        var popup_67b97c0845f4014d393d976b1b4ed745 = L.popup({&quot;maxWidth&quot;: &quot;100%&quot;});\n",
       "\n",
       "        \n",
       "            \n",
       "                var html_6dd24aff7b562eb58f945580978b92b5 = $(`&lt;div id=&quot;html_6dd24aff7b562eb58f945580978b92b5&quot; style=&quot;width: 100.0%; height: 100.0%;&quot;&gt;max site&lt;/div&gt;`)[0];\n",
       "                popup_67b97c0845f4014d393d976b1b4ed745.setContent(html_6dd24aff7b562eb58f945580978b92b5);\n",
       "            \n",
       "        \n",
       "\n",
       "        marker_2a63b3159d40d7c7dd75aa8ea1b27550.bindPopup(popup_67b97c0845f4014d393d976b1b4ed745)\n",
       "        ;\n",
       "\n",
       "        \n",
       "    \n",
       "    \n",
       "            var marker_e6069a2f3baba852b7efa91b3b8af265 = L.marker(\n",
       "                [51.22979961685109, 4.394331930457293],\n",
       "                {}\n",
       "            ).addTo(map_ef3c927dbfbae12458fbd88bae9e66e6);\n",
       "        \n",
       "    \n",
       "        var popup_5dae822de63115470e0c215d2b11d8ea = L.popup({&quot;maxWidth&quot;: &quot;100%&quot;});\n",
       "\n",
       "        \n",
       "            \n",
       "                var html_c06ac564826c42bf818e6e7593f11282 = $(`&lt;div id=&quot;html_c06ac564826c42bf818e6e7593f11282&quot; style=&quot;width: 100.0%; height: 100.0%;&quot;&gt;min site north&lt;/div&gt;`)[0];\n",
       "                popup_5dae822de63115470e0c215d2b11d8ea.setContent(html_c06ac564826c42bf818e6e7593f11282);\n",
       "            \n",
       "        \n",
       "\n",
       "        marker_e6069a2f3baba852b7efa91b3b8af265.bindPopup(popup_5dae822de63115470e0c215d2b11d8ea)\n",
       "        ;\n",
       "\n",
       "        \n",
       "    \n",
       "    \n",
       "            var marker_751d533a6b573fa606619afc42aa42cc = L.marker(\n",
       "                [51.22466615115592, 4.391886179162105],\n",
       "                {}\n",
       "            ).addTo(map_ef3c927dbfbae12458fbd88bae9e66e6);\n",
       "        \n",
       "    \n",
       "        var popup_b1fad3c7d4dcbd2d297837aec625e484 = L.popup({&quot;maxWidth&quot;: &quot;100%&quot;});\n",
       "\n",
       "        \n",
       "            \n",
       "                var html_b8712b7c08e739a583a813b3113dc5ba = $(`&lt;div id=&quot;html_b8712b7c08e739a583a813b3113dc5ba&quot; style=&quot;width: 100.0%; height: 100.0%;&quot;&gt;min site south&lt;/div&gt;`)[0];\n",
       "                popup_b1fad3c7d4dcbd2d297837aec625e484.setContent(html_b8712b7c08e739a583a813b3113dc5ba);\n",
       "            \n",
       "        \n",
       "\n",
       "        marker_751d533a6b573fa606619afc42aa42cc.bindPopup(popup_b1fad3c7d4dcbd2d297837aec625e484)\n",
       "        ;\n",
       "\n",
       "        \n",
       "    \n",
       "&lt;/script&gt;\n",
       "&lt;/html&gt;\" style=\"position:absolute;width:100%;height:100%;left:0;top:0;border:none !important;\" allowfullscreen webkitallowfullscreen mozallowfullscreen></iframe></div></div>"
      ],
      "text/plain": [
       "<folium.folium.Map at 0x20cb1fa3760>"
      ]
     },
     "execution_count": 4,
     "metadata": {},
     "output_type": "execute_result"
    }
   ],
   "source": [
    "map = folium.Map(location=min_site_coordinates, zoom_start=15)\n",
    "\n",
    "antenna_marker = folium.Marker(location=antenna_coordinates, popup=\"antenna\")\n",
    "min_site_marker = folium.Marker(location=min_site_coordinates, popup=\"min site\")\n",
    "max_site_marker = folium.Marker(location=max_site_coordinates, popup=\"max site\")\n",
    "min_site_north_marker = folium.Marker(location=min_site_north_coordinates, popup=\"min site north\")\n",
    "min_site_south_marker = folium.Marker(location=min_site_south_coordinates, popup=\"min site south\")\n",
    "\n",
    "antenna_marker.add_to(map)\n",
    "min_site_marker.add_to(map)\n",
    "max_site_marker.add_to(map)\n",
    "min_site_north_marker.add_to(map)\n",
    "min_site_south_marker.add_to(map)\n",
    "\n",
    "map"
   ]
  },
  {
   "cell_type": "markdown",
   "id": "d9a9728e-f15d-4356-ab99-939d4b62fe95",
   "metadata": {},
   "source": [
    "## Horizontal Angle "
   ]
  },
  {
   "cell_type": "code",
   "execution_count": 4,
   "id": "1b71ac52-db05-4311-a698-e4157afa06f9",
   "metadata": {
    "tags": []
   },
   "outputs": [
    {
     "name": "stdout",
     "output_type": "stream",
     "text": [
      "horizontal angle: 1.01 radians\n"
     ]
    }
   ],
   "source": [
    "def get_horizontal_angle_point_c(point_a, point_b, point_c):\n",
    "    a = distance(point_b, point_c).m\n",
    "    b = distance(point_a, point_c).m\n",
    "    c = distance(point_a, point_b).m\n",
    "    \n",
    "    # Calculate the angle using the law of cosines\n",
    "    angle = math.acos((a**2 + b**2 - c**2) / (2*a*b))\n",
    "    \n",
    "    return angle\n",
    "    \n",
    "horizontal_angle = get_horizontal_angle_point_c(\n",
    "    min_site_north_coordinates,\n",
    "    min_site_south_coordinates,\n",
    "    antenna_coordinates,\n",
    ")\n",
    "\n",
    "print(f'horizontal angle: {horizontal_angle:.2f} radians')"
   ]
  },
  {
   "attachments": {
    "28533dc9-43e1-413e-9241-76a9b92da0e6.png": {
     "image/png": "[encoded data removed]"
    }
   },
   "cell_type": "markdown",
   "id": "72cfd8f7-a845-4c3e-90bb-feb0c10efa72",
   "metadata": {},
   "source": [
    "![horizontal-angle.drawio.png](attachment:28533dc9-43e1-413e-9241-76a9b92da0e6.png)"
   ]
  },
  {
   "cell_type": "markdown",
   "id": "150f5352-6c86-4ad5-a727-cc25e11e9573",
   "metadata": {},
   "source": [
    "## Vertical Angle"
   ]
  },
  {
   "cell_type": "code",
   "execution_count": 5,
   "id": "0b67230a-26f9-4f35-a456-c320c4ad9e9e",
   "metadata": {
    "tags": []
   },
   "outputs": [],
   "source": [
    "import requests\n",
    "import pandas as pd\n",
    "import urllib3\n",
    "urllib3.disable_warnings(urllib3.exceptions.InsecureRequestWarning)\n",
    "\n",
    "def get_elevation(coordinates):\n",
    "    lat, long = coordinates\n",
    "    query = ('https://api.open-elevation.com/api/v1/lookup'\n",
    "             f'?locations={lat},{long}')\n",
    "    r = requests.get(query, verify=False).json()\n",
    "    elevation = r['results'][0]['elevation']\n",
    "    return elevation"
   ]
  },
  {
   "cell_type": "code",
   "execution_count": 6,
   "id": "52d4643d-0af3-4820-8254-5955ef2bdf7a",
   "metadata": {
    "tags": []
   },
   "outputs": [
    {
     "name": "stdout",
     "output_type": "stream",
     "text": [
      "building elevation: 11.00 m\n",
      "antenna elevation: 31.00 m\n",
      "max site elevation: 9.00 m\n",
      "min site elevation: 5.00 m\n"
     ]
    }
   ],
   "source": [
    "building_elevation_m = get_elevation(antenna_coordinates)\n",
    "antenna_elevation_m = building_elevation_m + antenna_building_height_m\n",
    "\n",
    "max_site_elevation_m = get_elevation(max_site_coordinates)\n",
    "min_site_elevation_m = get_elevation(min_site_coordinates)\n",
    "\n",
    "print(f'building elevation: {building_elevation_m:.2f} m')\n",
    "print(f'antenna elevation: {antenna_elevation_m:.2f} m')\n",
    "print(f'max site elevation: {max_site_elevation_m:.2f} m')\n",
    "print(f'min site elevation: {min_site_elevation_m:.2f} m')"
   ]
  },
  {
   "attachments": {
    "8e90b402-6526-4a2f-97f5-be0f964c97c9.png": {
     "image/png": "[encoded data removed]"
    }
   },
   "cell_type": "markdown",
   "id": "0ed89c78-6b01-4b4b-ac8d-546c1239d53e",
   "metadata": {},
   "source": [
    "![vertical-angle.drawio.png](attachment:8e90b402-6526-4a2f-97f5-be0f964c97c9.png)\n",
    "\n",
    "$$ tan(\\alpha) = \\frac{a}{h} $$\n",
    "$$ tan(\\beta) = \\frac{b}{h} $$\n",
    "$$ \\rightarrow \\beta - \\alpha $$"
   ]
  },
  {
   "cell_type": "code",
   "execution_count": 7,
   "id": "a836f8c7-2af6-4585-a5dd-5cccce8da99d",
   "metadata": {
    "tags": []
   },
   "outputs": [],
   "source": [
    "def get_vertical_angle():\n",
    "    a = distance(antenna_coordinates, min_site_coordinates).m\n",
    "    b = distance(antenna_coordinates, max_site_coordinates).m\n",
    "    h = antenna_building_height_m\n",
    "    \n",
    "    alpha = math.atan(a/h)\n",
    "    beta = math.atan(b/h)\n",
    "    \n",
    "    return beta - alpha"
   ]
  },
  {
   "cell_type": "code",
   "execution_count": 8,
   "id": "63260fc4-a5e6-4f63-9684-e3604f674e69",
   "metadata": {
    "tags": []
   },
   "outputs": [
    {
     "name": "stdout",
     "output_type": "stream",
     "text": [
      "vertical angle: 0.01 radians\n"
     ]
    }
   ],
   "source": [
    "vertical_angle = get_vertical_angle()\n",
    "\n",
    "print(f'vertical angle: {vertical_angle:.2f} radians')"
   ]
  }
 ],
 "metadata": {
  "kernelspec": {
   "display_name": "Python 3 (ipykernel)",
   "language": "python",
   "name": "python3"
  },
  "language_info": {
   "codemirror_mode": {
    "name": "ipython",
    "version": 3
   },
   "file_extension": ".py",
   "mimetype": "text/x-python",
   "name": "python",
   "nbconvert_exporter": "python",
   "pygments_lexer": "ipython3",
   "version": "3.10.4"
  }
 },
 "nbformat": 4,
 "nbformat_minor": 5
}
