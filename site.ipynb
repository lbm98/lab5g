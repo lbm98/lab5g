{
 "cells": [
  {
   "cell_type": "code",
   "execution_count": 10,
   "id": "c0a027bb-dd17-4959-8414-84d9b5d1eaec",
   "metadata": {
    "tags": []
   },
   "outputs": [],
   "source": [
    "import math\n",
    "import folium\n",
    "import numpy as np\n",
    "from geopy.distance import distance"
   ]
  },
  {
   "cell_type": "code",
   "execution_count": 2,
   "id": "af89b891-37d2-455d-a7c4-ffbaf15ae73a",
   "metadata": {
    "tags": []
   },
   "outputs": [],
   "source": [
    "antenna_building_height_m = 20\n",
    "\n",
    "antenna_coordinates = [51.225779846347535, 4.400503131269632]\n",
    "min_site_coordinates = [51.227090, 4.393261]\n",
    "max_site_coordinates = [51.227990333375544, 4.389441701586266]\n",
    "min_site_north_coordinates = [51.22979961685109, 4.394331930457293]\n",
    "min_site_south_coordinates = [51.22466615115592, 4.391886179162105]"
   ]
  },
  {
   "cell_type": "code",
   "execution_count": 3,
   "id": "10304017-e48b-4eb3-b844-5de3904b9257",
   "metadata": {
    "tags": []
   },
   "outputs": [
    {
     "data": {
      "text/html": [
       "<div style=\"width:100%;\"><div style=\"position:relative;width:100%;height:0;padding-bottom:60%;\"><span style=\"color:#565656\">Make this Notebook Trusted to load map: File -> Trust Notebook</span><iframe srcdoc=\"&lt;!DOCTYPE html&gt;\n",
       "&lt;html&gt;\n",
       "&lt;head&gt;\n",
       "    \n",
       "    &lt;meta http-equiv=&quot;content-type&quot; content=&quot;text/html; charset=UTF-8&quot; /&gt;\n",
       "    \n",
       "        &lt;script&gt;\n",
       "            L_NO_TOUCH = false;\n",
       "            L_DISABLE_3D = false;\n",
       "        &lt;/script&gt;\n",
       "    \n",
       "    &lt;style&gt;html, body {width: 100%;height: 100%;margin: 0;padding: 0;}&lt;/style&gt;\n",
       "    &lt;style&gt;#map {position:absolute;top:0;bottom:0;right:0;left:0;}&lt;/style&gt;\n",
       "    &lt;script src=&quot;https://cdn.jsdelivr.net/npm/leaflet@1.9.3/dist/leaflet.js&quot;&gt;&lt;/script&gt;\n",
       "    &lt;script src=&quot;https://code.jquery.com/jquery-1.12.4.min.js&quot;&gt;&lt;/script&gt;\n",
       "    &lt;script src=&quot;https://cdn.jsdelivr.net/npm/bootstrap@5.2.2/dist/js/bootstrap.bundle.min.js&quot;&gt;&lt;/script&gt;\n",
       "    &lt;script src=&quot;https://cdnjs.cloudflare.com/ajax/libs/Leaflet.awesome-markers/2.0.2/leaflet.awesome-markers.js&quot;&gt;&lt;/script&gt;\n",
       "    &lt;link rel=&quot;stylesheet&quot; href=&quot;https://cdn.jsdelivr.net/npm/leaflet@1.9.3/dist/leaflet.css&quot;/&gt;\n",
       "    &lt;link rel=&quot;stylesheet&quot; href=&quot;https://cdn.jsdelivr.net/npm/bootstrap@5.2.2/dist/css/bootstrap.min.css&quot;/&gt;\n",
       "    &lt;link rel=&quot;stylesheet&quot; href=&quot;https://netdna.bootstrapcdn.com/bootstrap/3.0.0/css/bootstrap.min.css&quot;/&gt;\n",
       "    &lt;link rel=&quot;stylesheet&quot; href=&quot;https://cdn.jsdelivr.net/npm/@fortawesome/fontawesome-free@6.2.0/css/all.min.css&quot;/&gt;\n",
       "    &lt;link rel=&quot;stylesheet&quot; href=&quot;https://cdnjs.cloudflare.com/ajax/libs/Leaflet.awesome-markers/2.0.2/leaflet.awesome-markers.css&quot;/&gt;\n",
       "    &lt;link rel=&quot;stylesheet&quot; href=&quot;https://cdn.jsdelivr.net/gh/python-visualization/folium/folium/templates/leaflet.awesome.rotate.min.css&quot;/&gt;\n",
       "    \n",
       "            &lt;meta name=&quot;viewport&quot; content=&quot;width=device-width,\n",
       "                initial-scale=1.0, maximum-scale=1.0, user-scalable=no&quot; /&gt;\n",
       "            &lt;style&gt;\n",
       "                #map_c52f418f66e50dbedaa73e648e3b8f73 {\n",
       "                    position: relative;\n",
       "                    width: 100.0%;\n",
       "                    height: 100.0%;\n",
       "                    left: 0.0%;\n",
       "                    top: 0.0%;\n",
       "                }\n",
       "                .leaflet-container { font-size: 1rem; }\n",
       "            &lt;/style&gt;\n",
       "        \n",
       "&lt;/head&gt;\n",
       "&lt;body&gt;\n",
       "    \n",
       "    \n",
       "            &lt;div class=&quot;folium-map&quot; id=&quot;map_c52f418f66e50dbedaa73e648e3b8f73&quot; &gt;&lt;/div&gt;\n",
       "        \n",
       "&lt;/body&gt;\n",
       "&lt;script&gt;\n",
       "    \n",
       "    \n",
       "            var map_c52f418f66e50dbedaa73e648e3b8f73 = L.map(\n",
       "                &quot;map_c52f418f66e50dbedaa73e648e3b8f73&quot;,\n",
       "                {\n",
       "                    center: [51.22709, 4.393261],\n",
       "                    crs: L.CRS.EPSG3857,\n",
       "                    zoom: 15,\n",
       "                    zoomControl: true,\n",
       "                    preferCanvas: false,\n",
       "                }\n",
       "            );\n",
       "\n",
       "            \n",
       "\n",
       "        \n",
       "    \n",
       "            var tile_layer_ed3bd28f97ddf1ee26e7002fbe4f0ed2 = L.tileLayer(\n",
       "                &quot;https://{s}.tile.openstreetmap.org/{z}/{x}/{y}.png&quot;,\n",
       "                {&quot;attribution&quot;: &quot;Data by \\u0026copy; \\u003ca target=\\&quot;_blank\\&quot; href=\\&quot;http://openstreetmap.org\\&quot;\\u003eOpenStreetMap\\u003c/a\\u003e, under \\u003ca target=\\&quot;_blank\\&quot; href=\\&quot;http://www.openstreetmap.org/copyright\\&quot;\\u003eODbL\\u003c/a\\u003e.&quot;, &quot;detectRetina&quot;: false, &quot;maxNativeZoom&quot;: 18, &quot;maxZoom&quot;: 18, &quot;minZoom&quot;: 0, &quot;noWrap&quot;: false, &quot;opacity&quot;: 1, &quot;subdomains&quot;: &quot;abc&quot;, &quot;tms&quot;: false}\n",
       "            ).addTo(map_c52f418f66e50dbedaa73e648e3b8f73);\n",
       "        \n",
       "    \n",
       "            var marker_e20da5b42513e849108a2a15d6bae8c9 = L.marker(\n",
       "                [51.225779846347535, 4.400503131269632],\n",
       "                {}\n",
       "            ).addTo(map_c52f418f66e50dbedaa73e648e3b8f73);\n",
       "        \n",
       "    \n",
       "        var popup_74e5fc5dc7f441951e07d5ba70c34156 = L.popup({&quot;maxWidth&quot;: &quot;100%&quot;});\n",
       "\n",
       "        \n",
       "            \n",
       "                var html_ea64520f0798efa4e30cd66ac64efb49 = $(`&lt;div id=&quot;html_ea64520f0798efa4e30cd66ac64efb49&quot; style=&quot;width: 100.0%; height: 100.0%;&quot;&gt;antenna&lt;/div&gt;`)[0];\n",
       "                popup_74e5fc5dc7f441951e07d5ba70c34156.setContent(html_ea64520f0798efa4e30cd66ac64efb49);\n",
       "            \n",
       "        \n",
       "\n",
       "        marker_e20da5b42513e849108a2a15d6bae8c9.bindPopup(popup_74e5fc5dc7f441951e07d5ba70c34156)\n",
       "        ;\n",
       "\n",
       "        \n",
       "    \n",
       "    \n",
       "            var marker_40f25d714ec20368bc9e265dd0817087 = L.marker(\n",
       "                [51.22709, 4.393261],\n",
       "                {}\n",
       "            ).addTo(map_c52f418f66e50dbedaa73e648e3b8f73);\n",
       "        \n",
       "    \n",
       "        var popup_5f336672c5d8eaf389cf71682624ea71 = L.popup({&quot;maxWidth&quot;: &quot;100%&quot;});\n",
       "\n",
       "        \n",
       "            \n",
       "                var html_167750f024d45880f92df8ef33d6a5e9 = $(`&lt;div id=&quot;html_167750f024d45880f92df8ef33d6a5e9&quot; style=&quot;width: 100.0%; height: 100.0%;&quot;&gt;min site&lt;/div&gt;`)[0];\n",
       "                popup_5f336672c5d8eaf389cf71682624ea71.setContent(html_167750f024d45880f92df8ef33d6a5e9);\n",
       "            \n",
       "        \n",
       "\n",
       "        marker_40f25d714ec20368bc9e265dd0817087.bindPopup(popup_5f336672c5d8eaf389cf71682624ea71)\n",
       "        ;\n",
       "\n",
       "        \n",
       "    \n",
       "    \n",
       "            var marker_d91dfeeb867985ccd7939cbcc92744b3 = L.marker(\n",
       "                [51.227990333375544, 4.389441701586266],\n",
       "                {}\n",
       "            ).addTo(map_c52f418f66e50dbedaa73e648e3b8f73);\n",
       "        \n",
       "    \n",
       "        var popup_c74b274443fa8301ee5f439cbf91a25a = L.popup({&quot;maxWidth&quot;: &quot;100%&quot;});\n",
       "\n",
       "        \n",
       "            \n",
       "                var html_ec09acc1ccce01d6012cf3e4d9b2fa47 = $(`&lt;div id=&quot;html_ec09acc1ccce01d6012cf3e4d9b2fa47&quot; style=&quot;width: 100.0%; height: 100.0%;&quot;&gt;max site&lt;/div&gt;`)[0];\n",
       "                popup_c74b274443fa8301ee5f439cbf91a25a.setContent(html_ec09acc1ccce01d6012cf3e4d9b2fa47);\n",
       "            \n",
       "        \n",
       "\n",
       "        marker_d91dfeeb867985ccd7939cbcc92744b3.bindPopup(popup_c74b274443fa8301ee5f439cbf91a25a)\n",
       "        ;\n",
       "\n",
       "        \n",
       "    \n",
       "    \n",
       "            var marker_ec0ee86ae322af6d6e8f477a246d894d = L.marker(\n",
       "                [51.22979961685109, 4.394331930457293],\n",
       "                {}\n",
       "            ).addTo(map_c52f418f66e50dbedaa73e648e3b8f73);\n",
       "        \n",
       "    \n",
       "        var popup_d0f00737a386b63897d44da60160a1af = L.popup({&quot;maxWidth&quot;: &quot;100%&quot;});\n",
       "\n",
       "        \n",
       "            \n",
       "                var html_2d1ba66bfc339c30362032983a75395a = $(`&lt;div id=&quot;html_2d1ba66bfc339c30362032983a75395a&quot; style=&quot;width: 100.0%; height: 100.0%;&quot;&gt;min site north&lt;/div&gt;`)[0];\n",
       "                popup_d0f00737a386b63897d44da60160a1af.setContent(html_2d1ba66bfc339c30362032983a75395a);\n",
       "            \n",
       "        \n",
       "\n",
       "        marker_ec0ee86ae322af6d6e8f477a246d894d.bindPopup(popup_d0f00737a386b63897d44da60160a1af)\n",
       "        ;\n",
       "\n",
       "        \n",
       "    \n",
       "    \n",
       "            var marker_9d3fa8457061a5f2085ee36a05bef556 = L.marker(\n",
       "                [51.22466615115592, 4.391886179162105],\n",
       "                {}\n",
       "            ).addTo(map_c52f418f66e50dbedaa73e648e3b8f73);\n",
       "        \n",
       "    \n",
       "        var popup_8c1ac58c2f1fa11234674050c47c0f4c = L.popup({&quot;maxWidth&quot;: &quot;100%&quot;});\n",
       "\n",
       "        \n",
       "            \n",
       "                var html_2dde986b4aa9771782e3c53ddf4fc165 = $(`&lt;div id=&quot;html_2dde986b4aa9771782e3c53ddf4fc165&quot; style=&quot;width: 100.0%; height: 100.0%;&quot;&gt;min site south&lt;/div&gt;`)[0];\n",
       "                popup_8c1ac58c2f1fa11234674050c47c0f4c.setContent(html_2dde986b4aa9771782e3c53ddf4fc165);\n",
       "            \n",
       "        \n",
       "\n",
       "        marker_9d3fa8457061a5f2085ee36a05bef556.bindPopup(popup_8c1ac58c2f1fa11234674050c47c0f4c)\n",
       "        ;\n",
       "\n",
       "        \n",
       "    \n",
       "&lt;/script&gt;\n",
       "&lt;/html&gt;\" style=\"position:absolute;width:100%;height:100%;left:0;top:0;border:none !important;\" allowfullscreen webkitallowfullscreen mozallowfullscreen></iframe></div></div>"
      ],
      "text/plain": [
       "<folium.folium.Map at 0x1811228a320>"
      ]
     },
     "execution_count": 3,
     "metadata": {},
     "output_type": "execute_result"
    }
   ],
   "source": [
    "map = folium.Map(location=min_site_coordinates, zoom_start=15)\n",
    "\n",
    "antenna_marker = folium.Marker(location=antenna_coordinates, popup=\"antenna\")\n",
    "min_site_marker = folium.Marker(location=min_site_coordinates, popup=\"min site\")\n",
    "max_site_marker = folium.Marker(location=max_site_coordinates, popup=\"max site\")\n",
    "min_site_north_marker = folium.Marker(location=min_site_north_coordinates, popup=\"min site north\")\n",
    "min_site_south_marker = folium.Marker(location=min_site_south_coordinates, popup=\"min site south\")\n",
    "\n",
    "antenna_marker.add_to(map)\n",
    "min_site_marker.add_to(map)\n",
    "max_site_marker.add_to(map)\n",
    "min_site_north_marker.add_to(map)\n",
    "min_site_south_marker.add_to(map)\n",
    "\n",
    "map"
   ]
  },
  {
   "cell_type": "markdown",
   "id": "d9a9728e-f15d-4356-ab99-939d4b62fe95",
   "metadata": {},
   "source": [
    "## Horizontal Angle "
   ]
  },
  {
   "cell_type": "code",
   "execution_count": 4,
   "id": "1b71ac52-db05-4311-a698-e4157afa06f9",
   "metadata": {
    "tags": []
   },
   "outputs": [
    {
     "name": "stdout",
     "output_type": "stream",
     "text": [
      "horizontal angle: 1.01 radians\n"
     ]
    }
   ],
   "source": [
    "def get_horizontal_angle_point_c(point_a, point_b, point_c):\n",
    "    a = distance(point_b, point_c).m\n",
    "    b = distance(point_a, point_c).m\n",
    "    c = distance(point_a, point_b).m\n",
    "    \n",
    "    # Calculate the angle using the law of cosines\n",
    "    angle = math.acos((a**2 + b**2 - c**2) / (2*a*b))\n",
    "    \n",
    "    return angle\n",
    "    \n",
    "horizontal_angle = get_horizontal_angle_point_c(\n",
    "    min_site_north_coordinates,\n",
    "    min_site_south_coordinates,\n",
    "    antenna_coordinates,\n",
    ")\n",
    "\n",
    "print(f'horizontal angle: {horizontal_angle:.2f} radians')"
   ]
  },
  {
   "cell_type": "markdown",
   "id": "150f5352-6c86-4ad5-a727-cc25e11e9573",
   "metadata": {},
   "source": [
    "## Vertical Angle"
   ]
  },
  {
   "cell_type": "code",
   "execution_count": 5,
   "id": "0b67230a-26f9-4f35-a456-c320c4ad9e9e",
   "metadata": {
    "tags": []
   },
   "outputs": [],
   "source": [
    "import requests\n",
    "import pandas as pd\n",
    "import urllib3\n",
    "urllib3.disable_warnings(urllib3.exceptions.InsecureRequestWarning)\n",
    "\n",
    "def get_elevation(coordinates):\n",
    "    lat, long = coordinates\n",
    "    query = ('https://api.open-elevation.com/api/v1/lookup'\n",
    "             f'?locations={lat},{long}')\n",
    "    r = requests.get(query, verify=False).json()\n",
    "    elevation = r['results'][0]['elevation']\n",
    "    return elevation"
   ]
  },
  {
   "cell_type": "code",
   "execution_count": 6,
   "id": "52d4643d-0af3-4820-8254-5955ef2bdf7a",
   "metadata": {
    "tags": []
   },
   "outputs": [
    {
     "name": "stdout",
     "output_type": "stream",
     "text": [
      "building elevation: 11.00 m\n",
      "antenna elevation: 31.00 m\n",
      "max site elevation: 9.00 m\n",
      "min site elevation: 5.00 m\n"
     ]
    }
   ],
   "source": [
    "building_elevation_m = get_elevation(antenna_coordinates)\n",
    "antenna_elevation_m = building_elevation_m + antenna_building_height_m\n",
    "\n",
    "max_site_elevation_m = get_elevation(max_site_coordinates)\n",
    "min_site_elevation_m = get_elevation(min_site_coordinates)\n",
    "\n",
    "print(f'building elevation: {building_elevation_m:.2f} m')\n",
    "print(f'antenna elevation: {antenna_elevation_m:.2f} m')\n",
    "print(f'max site elevation: {max_site_elevation_m:.2f} m')\n",
    "print(f'min site elevation: {min_site_elevation_m:.2f} m')"
   ]
  },
  {
   "cell_type": "code",
   "execution_count": 7,
   "id": "8f55884c-fc57-4365-8239-b8f28adc79b7",
   "metadata": {
    "tags": []
   },
   "outputs": [],
   "source": [
    "def get_distance_3d(coordinate_a, altitude_a, coordinate_b, c):\n",
    "    distance_2d= distance(coordinate_a, coordinate_b).m\n",
    "    distance_3d = np.sqrt(distance_2d**2 + (altitude_a - altitude_a)**2)\n",
    "    return distance_3d"
   ]
  },
  {
   "cell_type": "code",
   "execution_count": 13,
   "id": "e85345c3-f12b-4bdd-a4a0-d4acfb7d8d5a",
   "metadata": {
    "tags": []
   },
   "outputs": [],
   "source": [
    "def get_vertical_angle_coordinate_c(\n",
    "    coordinate_a, altitude_a,\n",
    "    coordinate_b, altitude_b,\n",
    "    coordinate_c, altitude_c\n",
    "):\n",
    "    a = get_distance_3d(coordinate_b, altitude_b, coordinate_c, altitude_c)\n",
    "    b = get_distance_3d(coordinate_a, altitude_a, coordinate_c, altitude_c)\n",
    "    c = get_distance_3d(coordinate_a, altitude_a, coordinate_b, altitude_b)\n",
    "    \n",
    "    # print(a, b, c)\n",
    "    \n",
    "    # Calculate the angle using the law of cosines\n",
    "    angle = math.acos((a**2 + b**2 - c**2) / (2*a*b))\n",
    "    \n",
    "    return angle"
   ]
  },
  {
   "cell_type": "code",
   "execution_count": 15,
   "id": "22cb6a55-261a-43b7-a801-d89da22734c7",
   "metadata": {
    "tags": []
   },
   "outputs": [
    {
     "name": "stdout",
     "output_type": "stream",
     "text": [
      "810.8842274094833 526.4812964391267 284.97562691628946\n",
      "vertical angle: 0.03 radians\n"
     ]
    }
   ],
   "source": [
    "vertical_angle = get_vertical_angle_coordinate_c(\n",
    "    min_site_coordinates, min_site_elevation_m,\n",
    "    max_site_coordinates, max_site_elevation_m,\n",
    "    antenna_coordinates, antenna_elevation_m\n",
    ")\n",
    "\n",
    "print(f'vertical angle: {vertical_angle:.2f} radians')"
   ]
  },
  {
   "attachments": {
    "bf19f762-562d-4d83-b9b4-5a6739b97fe9.png": {
     "image/png": "[encoded data removed]"
    }
   },
   "cell_type": "markdown",
   "id": "8aceb188-14a7-49eb-9215-db92c9f217b2",
   "metadata": {},
   "source": [
    "![elevation.drawio.png](attachment:bf19f762-562d-4d83-b9b4-5a6739b97fe9.png)"
   ]
  },
  {
   "cell_type": "code",
   "execution_count": null,
   "id": "bc0261dc-5e09-4df9-bf33-c3b3934cbeff",
   "metadata": {},
   "outputs": [],
   "source": []
  }
 ],
 "metadata": {
  "kernelspec": {
   "display_name": "Python 3 (ipykernel)",
   "language": "python",
   "name": "python3"
  },
  "language_info": {
   "codemirror_mode": {
    "name": "ipython",
    "version": 3
   },
   "file_extension": ".py",
   "mimetype": "text/x-python",
   "name": "python",
   "nbconvert_exporter": "python",
   "pygments_lexer": "ipython3",
   "version": "3.10.4"
  }
 },
 "nbformat": 4,
 "nbformat_minor": 5
}
